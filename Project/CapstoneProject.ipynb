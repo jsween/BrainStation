{
 "cells": [
  {
   "cell_type": "markdown",
   "metadata": {},
   "source": [
    "# Predict Customer Churn for Subscription-based Media Company  \n",
    "\n",
    "Data provided by [Kaggle](https://www.kaggle.com/datasets/safrin03/predictive-analytics-for-customer-churn-dataset/data)  \n",
    "\n",
    "<ul>\n",
    "<li><a href=\"#intro\">Introduction</a></li>\n",
    "<li><a href=\"#eda\">Exploratory Data Analysis</a></li>\n",
    "<li><a href=\"#cleaning\">Data Cleaning</a></li>\n",
    "<li><a href=\"#training\">Training</a></li>\n",
    "<li><a href=\"#conclusions\">Conclusions</a></li>\n",
    "</ul>"
   ]
  },
  {
   "cell_type": "markdown",
   "metadata": {},
   "source": [
    "<a id=\"intro\"></a>\n",
    "## Introduction"
   ]
  },
  {
   "cell_type": "markdown",
   "metadata": {},
   "source": [
    "The data provided is synthetic for a fictional subcription-based media company. The goal of this effort is to predict when a customer is likely to cancel their subscription."
   ]
  },
  {
   "cell_type": "markdown",
   "metadata": {},
   "source": [
    "<a id='eda'></a>\n",
    "## Exploratory Data Analysis"
   ]
  },
  {
   "cell_type": "markdown",
   "metadata": {},
   "source": [
    "### Import necessary libraries\n",
    "\n",
    "> These libraries are used to explore the data"
   ]
  },
  {
   "cell_type": "code",
   "execution_count": 195,
   "metadata": {},
   "outputs": [],
   "source": [
    "import os  \n",
    "import numpy as np\n",
    "import pandas as pd\n",
    "import matplotlib.pyplot as plt\n",
    "import seaborn as sns\n",
    "from ydata_profiling import ProfileReport\n",
    "from sklearn.preprocessing import LabelBinarizer, LabelEncoder, Normalizer\n",
    "from sklearn.model_selection import train_test_split\n",
    "from sklearn.linear_model import LinearRegression, LogisticRegression\n",
    "from sklearn.metrics import accuracy_score,confusion_matrix\n",
    "\n",
    "pd.set_option('display.max_colwidth', None)\n",
    "\n",
    "%matplotlib inline"
   ]
  },
  {
   "cell_type": "markdown",
   "metadata": {},
   "source": [
    "### Load the data"
   ]
  },
  {
   "cell_type": "code",
   "execution_count": 115,
   "metadata": {},
   "outputs": [
    {
     "name": "stdout",
     "output_type": "stream",
     "text": [
      "These are the files that were provided by Kaggle:\n",
      "\n",
      "test.csv\n",
      "train.csv\n",
      "data_descriptions.csv\n"
     ]
    }
   ],
   "source": [
    "print('These are the files that were provided by Kaggle:\\n')\n",
    "for root, dirs, files in os.walk('./data/'):\n",
    "    for file in files:\n",
    "        if file != '.DS_Store':\n",
    "            print(file)"
   ]
  },
  {
   "cell_type": "markdown",
   "metadata": {},
   "source": [
    "> Load the three files into separate data frames"
   ]
  },
  {
   "cell_type": "code",
   "execution_count": 116,
   "metadata": {},
   "outputs": [],
   "source": [
    "train_raw_df = pd.read_csv('data/train.csv')\n",
    "test_raw_df = pd.read_csv('data/test.csv')\n",
    "desc_df = pd.read_csv('data/data_descriptions.csv')"
   ]
  },
  {
   "cell_type": "markdown",
   "metadata": {},
   "source": [
    "### Automated EDA "
   ]
  },
  {
   "cell_type": "markdown",
   "metadata": {},
   "source": [
    "> Using YData's library, creating an automated EDA report to get a feeling for the data before manually inspecting. Looking at the training data since this is the large dataset."
   ]
  },
  {
   "cell_type": "code",
   "execution_count": 117,
   "metadata": {},
   "outputs": [],
   "source": [
    "#TODO: Uncomment out for submission\n",
    "# profile = ProfileReport(train_raw_df, title=\"Train Data Profiling Report\")\n",
    "# profile.to_widgets()"
   ]
  },
  {
   "cell_type": "markdown",
   "metadata": {},
   "source": [
    "The main things I captured from the generated report:\n",
    "1. No missing data\n",
    "2. No duplicated rows\n",
    "3. The highest correlation was between account age and total charges (which is expected)"
   ]
  },
  {
   "cell_type": "markdown",
   "metadata": {},
   "source": [
    "### Manual EDA\n",
    "\n",
    "In this section, I will manually explore the data. Some steps will be repeated to ensure the accuracy of the report."
   ]
  },
  {
   "cell_type": "markdown",
   "metadata": {},
   "source": [
    "> Inspect the Data Descriptions for the columns"
   ]
  },
  {
   "cell_type": "code",
   "execution_count": 118,
   "metadata": {},
   "outputs": [
    {
     "data": {
      "text/html": [
       "<div>\n",
       "<style scoped>\n",
       "    .dataframe tbody tr th:only-of-type {\n",
       "        vertical-align: middle;\n",
       "    }\n",
       "\n",
       "    .dataframe tbody tr th {\n",
       "        vertical-align: top;\n",
       "    }\n",
       "\n",
       "    .dataframe thead th {\n",
       "        text-align: right;\n",
       "    }\n",
       "</style>\n",
       "<table border=\"1\" class=\"dataframe\">\n",
       "  <thead>\n",
       "    <tr style=\"text-align: right;\">\n",
       "      <th></th>\n",
       "      <th>Column_name</th>\n",
       "      <th>Column_type</th>\n",
       "      <th>Data_type</th>\n",
       "      <th>Description</th>\n",
       "    </tr>\n",
       "  </thead>\n",
       "  <tbody>\n",
       "    <tr>\n",
       "      <th>0</th>\n",
       "      <td>AccountAge</td>\n",
       "      <td>Feature</td>\n",
       "      <td>integer</td>\n",
       "      <td>The age of the user's account in months.</td>\n",
       "    </tr>\n",
       "    <tr>\n",
       "      <th>1</th>\n",
       "      <td>MonthlyCharges</td>\n",
       "      <td>Feature</td>\n",
       "      <td>float</td>\n",
       "      <td>The amount charged to the user on a monthly basis.</td>\n",
       "    </tr>\n",
       "    <tr>\n",
       "      <th>2</th>\n",
       "      <td>TotalCharges</td>\n",
       "      <td>Feature</td>\n",
       "      <td>float</td>\n",
       "      <td>The total charges incurred by the user over the account's lifetime.</td>\n",
       "    </tr>\n",
       "    <tr>\n",
       "      <th>3</th>\n",
       "      <td>SubscriptionType</td>\n",
       "      <td>Feature</td>\n",
       "      <td>object</td>\n",
       "      <td>The type of subscription chosen by the user (Basic, Standard, or Premium).</td>\n",
       "    </tr>\n",
       "    <tr>\n",
       "      <th>4</th>\n",
       "      <td>PaymentMethod</td>\n",
       "      <td>Feature</td>\n",
       "      <td>string</td>\n",
       "      <td>The method of payment used by the user.</td>\n",
       "    </tr>\n",
       "    <tr>\n",
       "      <th>5</th>\n",
       "      <td>PaperlessBilling</td>\n",
       "      <td>Feature</td>\n",
       "      <td>string</td>\n",
       "      <td>Indicates whether the user has opted for paperless billing (Yes or No).</td>\n",
       "    </tr>\n",
       "    <tr>\n",
       "      <th>6</th>\n",
       "      <td>ContentType</td>\n",
       "      <td>Feature</td>\n",
       "      <td>string</td>\n",
       "      <td>The type of content preferred by the user (Movies, TV Shows, or Both).</td>\n",
       "    </tr>\n",
       "    <tr>\n",
       "      <th>7</th>\n",
       "      <td>MultiDeviceAccess</td>\n",
       "      <td>Feature</td>\n",
       "      <td>string</td>\n",
       "      <td>Indicates whether the user has access to the service on multiple devices (Yes or No).</td>\n",
       "    </tr>\n",
       "    <tr>\n",
       "      <th>8</th>\n",
       "      <td>DeviceRegistered</td>\n",
       "      <td>Feature</td>\n",
       "      <td>string</td>\n",
       "      <td>The type of device registered by the user (TV, Mobile, Tablet, or Computer).</td>\n",
       "    </tr>\n",
       "    <tr>\n",
       "      <th>9</th>\n",
       "      <td>ViewingHoursPerWeek</td>\n",
       "      <td>Feature</td>\n",
       "      <td>float</td>\n",
       "      <td>The number of hours the user spends watching content per week.</td>\n",
       "    </tr>\n",
       "    <tr>\n",
       "      <th>10</th>\n",
       "      <td>AverageViewingDuration</td>\n",
       "      <td>Feature</td>\n",
       "      <td>float</td>\n",
       "      <td>The average duration of each viewing session in minutes.</td>\n",
       "    </tr>\n",
       "    <tr>\n",
       "      <th>11</th>\n",
       "      <td>ContentDownloadsPerMonth</td>\n",
       "      <td>Feature</td>\n",
       "      <td>integer</td>\n",
       "      <td>The number of content downloads by the user per month.</td>\n",
       "    </tr>\n",
       "    <tr>\n",
       "      <th>12</th>\n",
       "      <td>GenrePreference</td>\n",
       "      <td>Feature</td>\n",
       "      <td>string</td>\n",
       "      <td>The preferred genre of content chosen by the user.</td>\n",
       "    </tr>\n",
       "    <tr>\n",
       "      <th>13</th>\n",
       "      <td>UserRating</td>\n",
       "      <td>Feature</td>\n",
       "      <td>float</td>\n",
       "      <td>The user's rating for the service on a scale of 1 to 5.</td>\n",
       "    </tr>\n",
       "    <tr>\n",
       "      <th>14</th>\n",
       "      <td>SupportTicketsPerMonth</td>\n",
       "      <td>Feature</td>\n",
       "      <td>integer</td>\n",
       "      <td>The number of support tickets raised by the user per month.</td>\n",
       "    </tr>\n",
       "    <tr>\n",
       "      <th>15</th>\n",
       "      <td>Gender</td>\n",
       "      <td>Feature</td>\n",
       "      <td>string</td>\n",
       "      <td>The gender of the user (Male or Female).</td>\n",
       "    </tr>\n",
       "    <tr>\n",
       "      <th>16</th>\n",
       "      <td>WatchlistSize</td>\n",
       "      <td>Feature</td>\n",
       "      <td>float</td>\n",
       "      <td>The number of items in the user's watchlist.</td>\n",
       "    </tr>\n",
       "    <tr>\n",
       "      <th>17</th>\n",
       "      <td>ParentalControl</td>\n",
       "      <td>Feature</td>\n",
       "      <td>string</td>\n",
       "      <td>Indicates whether parental control is enabled for the user (Yes or No).</td>\n",
       "    </tr>\n",
       "    <tr>\n",
       "      <th>18</th>\n",
       "      <td>SubtitlesEnabled</td>\n",
       "      <td>Feature</td>\n",
       "      <td>string</td>\n",
       "      <td>Indicates whether subtitles are enabled for the user (Yes or No).</td>\n",
       "    </tr>\n",
       "    <tr>\n",
       "      <th>19</th>\n",
       "      <td>CustomerID</td>\n",
       "      <td>Identifier</td>\n",
       "      <td>string</td>\n",
       "      <td>A unique identifier for each customer.</td>\n",
       "    </tr>\n",
       "    <tr>\n",
       "      <th>20</th>\n",
       "      <td>Churn</td>\n",
       "      <td>Target</td>\n",
       "      <td>integer</td>\n",
       "      <td>The target variable indicating whether a user has churned or not (1 for churned, 0 for not churned).</td>\n",
       "    </tr>\n",
       "  </tbody>\n",
       "</table>\n",
       "</div>"
      ],
      "text/plain": [
       "                 Column_name Column_type Data_type  \\\n",
       "0                 AccountAge     Feature   integer   \n",
       "1             MonthlyCharges     Feature     float   \n",
       "2               TotalCharges     Feature     float   \n",
       "3           SubscriptionType     Feature    object   \n",
       "4              PaymentMethod     Feature    string   \n",
       "5           PaperlessBilling     Feature    string   \n",
       "6                ContentType     Feature    string   \n",
       "7          MultiDeviceAccess     Feature    string   \n",
       "8           DeviceRegistered     Feature    string   \n",
       "9        ViewingHoursPerWeek     Feature     float   \n",
       "10    AverageViewingDuration     Feature     float   \n",
       "11  ContentDownloadsPerMonth     Feature   integer   \n",
       "12           GenrePreference     Feature    string   \n",
       "13                UserRating     Feature     float   \n",
       "14    SupportTicketsPerMonth     Feature   integer   \n",
       "15                    Gender     Feature    string   \n",
       "16             WatchlistSize     Feature     float   \n",
       "17           ParentalControl     Feature    string   \n",
       "18          SubtitlesEnabled     Feature    string   \n",
       "19                CustomerID  Identifier    string   \n",
       "20                     Churn      Target   integer   \n",
       "\n",
       "                                                                                             Description  \n",
       "0                                                               The age of the user's account in months.  \n",
       "1                                                     The amount charged to the user on a monthly basis.  \n",
       "2                                    The total charges incurred by the user over the account's lifetime.  \n",
       "3                             The type of subscription chosen by the user (Basic, Standard, or Premium).  \n",
       "4                                                                The method of payment used by the user.  \n",
       "5                                Indicates whether the user has opted for paperless billing (Yes or No).  \n",
       "6                                 The type of content preferred by the user (Movies, TV Shows, or Both).  \n",
       "7                  Indicates whether the user has access to the service on multiple devices (Yes or No).  \n",
       "8                           The type of device registered by the user (TV, Mobile, Tablet, or Computer).  \n",
       "9                                         The number of hours the user spends watching content per week.  \n",
       "10                                              The average duration of each viewing session in minutes.  \n",
       "11                                                The number of content downloads by the user per month.  \n",
       "12                                                    The preferred genre of content chosen by the user.  \n",
       "13                                               The user's rating for the service on a scale of 1 to 5.  \n",
       "14                                           The number of support tickets raised by the user per month.  \n",
       "15                                                              The gender of the user (Male or Female).  \n",
       "16                                                          The number of items in the user's watchlist.  \n",
       "17                               Indicates whether parental control is enabled for the user (Yes or No).  \n",
       "18                                     Indicates whether subtitles are enabled for the user (Yes or No).  \n",
       "19                                                                A unique identifier for each customer.  \n",
       "20  The target variable indicating whether a user has churned or not (1 for churned, 0 for not churned).  "
      ]
     },
     "execution_count": 118,
     "metadata": {},
     "output_type": "execute_result"
    }
   ],
   "source": [
    "desc_df"
   ]
  },
  {
   "cell_type": "markdown",
   "metadata": {},
   "source": [
    "> Now peeking at the train and test dataframes"
   ]
  },
  {
   "cell_type": "code",
   "execution_count": 119,
   "metadata": {},
   "outputs": [
    {
     "data": {
      "text/html": [
       "<div>\n",
       "<style scoped>\n",
       "    .dataframe tbody tr th:only-of-type {\n",
       "        vertical-align: middle;\n",
       "    }\n",
       "\n",
       "    .dataframe tbody tr th {\n",
       "        vertical-align: top;\n",
       "    }\n",
       "\n",
       "    .dataframe thead th {\n",
       "        text-align: right;\n",
       "    }\n",
       "</style>\n",
       "<table border=\"1\" class=\"dataframe\">\n",
       "  <thead>\n",
       "    <tr style=\"text-align: right;\">\n",
       "      <th></th>\n",
       "      <th>AccountAge</th>\n",
       "      <th>MonthlyCharges</th>\n",
       "      <th>TotalCharges</th>\n",
       "      <th>SubscriptionType</th>\n",
       "      <th>PaymentMethod</th>\n",
       "      <th>PaperlessBilling</th>\n",
       "      <th>ContentType</th>\n",
       "      <th>MultiDeviceAccess</th>\n",
       "      <th>DeviceRegistered</th>\n",
       "      <th>ViewingHoursPerWeek</th>\n",
       "      <th>...</th>\n",
       "      <th>ContentDownloadsPerMonth</th>\n",
       "      <th>GenrePreference</th>\n",
       "      <th>UserRating</th>\n",
       "      <th>SupportTicketsPerMonth</th>\n",
       "      <th>Gender</th>\n",
       "      <th>WatchlistSize</th>\n",
       "      <th>ParentalControl</th>\n",
       "      <th>SubtitlesEnabled</th>\n",
       "      <th>CustomerID</th>\n",
       "      <th>Churn</th>\n",
       "    </tr>\n",
       "  </thead>\n",
       "  <tbody>\n",
       "    <tr>\n",
       "      <th>0</th>\n",
       "      <td>20</td>\n",
       "      <td>11.055215</td>\n",
       "      <td>221.104302</td>\n",
       "      <td>Premium</td>\n",
       "      <td>Mailed check</td>\n",
       "      <td>No</td>\n",
       "      <td>Both</td>\n",
       "      <td>No</td>\n",
       "      <td>Mobile</td>\n",
       "      <td>36.758104</td>\n",
       "      <td>...</td>\n",
       "      <td>10</td>\n",
       "      <td>Sci-Fi</td>\n",
       "      <td>2.176498</td>\n",
       "      <td>4</td>\n",
       "      <td>Male</td>\n",
       "      <td>3</td>\n",
       "      <td>No</td>\n",
       "      <td>No</td>\n",
       "      <td>CB6SXPNVZA</td>\n",
       "      <td>0</td>\n",
       "    </tr>\n",
       "    <tr>\n",
       "      <th>1</th>\n",
       "      <td>57</td>\n",
       "      <td>5.175208</td>\n",
       "      <td>294.986882</td>\n",
       "      <td>Basic</td>\n",
       "      <td>Credit card</td>\n",
       "      <td>Yes</td>\n",
       "      <td>Movies</td>\n",
       "      <td>No</td>\n",
       "      <td>Tablet</td>\n",
       "      <td>32.450568</td>\n",
       "      <td>...</td>\n",
       "      <td>18</td>\n",
       "      <td>Action</td>\n",
       "      <td>3.478632</td>\n",
       "      <td>8</td>\n",
       "      <td>Male</td>\n",
       "      <td>23</td>\n",
       "      <td>No</td>\n",
       "      <td>Yes</td>\n",
       "      <td>S7R2G87O09</td>\n",
       "      <td>0</td>\n",
       "    </tr>\n",
       "    <tr>\n",
       "      <th>2</th>\n",
       "      <td>73</td>\n",
       "      <td>12.106657</td>\n",
       "      <td>883.785952</td>\n",
       "      <td>Basic</td>\n",
       "      <td>Mailed check</td>\n",
       "      <td>Yes</td>\n",
       "      <td>Movies</td>\n",
       "      <td>No</td>\n",
       "      <td>Computer</td>\n",
       "      <td>7.395160</td>\n",
       "      <td>...</td>\n",
       "      <td>23</td>\n",
       "      <td>Fantasy</td>\n",
       "      <td>4.238824</td>\n",
       "      <td>6</td>\n",
       "      <td>Male</td>\n",
       "      <td>1</td>\n",
       "      <td>Yes</td>\n",
       "      <td>Yes</td>\n",
       "      <td>EASDC20BDT</td>\n",
       "      <td>0</td>\n",
       "    </tr>\n",
       "    <tr>\n",
       "      <th>3</th>\n",
       "      <td>32</td>\n",
       "      <td>7.263743</td>\n",
       "      <td>232.439774</td>\n",
       "      <td>Basic</td>\n",
       "      <td>Electronic check</td>\n",
       "      <td>No</td>\n",
       "      <td>TV Shows</td>\n",
       "      <td>No</td>\n",
       "      <td>Tablet</td>\n",
       "      <td>27.960389</td>\n",
       "      <td>...</td>\n",
       "      <td>30</td>\n",
       "      <td>Drama</td>\n",
       "      <td>4.276013</td>\n",
       "      <td>2</td>\n",
       "      <td>Male</td>\n",
       "      <td>24</td>\n",
       "      <td>Yes</td>\n",
       "      <td>Yes</td>\n",
       "      <td>NPF69NT69N</td>\n",
       "      <td>0</td>\n",
       "    </tr>\n",
       "    <tr>\n",
       "      <th>4</th>\n",
       "      <td>57</td>\n",
       "      <td>16.953078</td>\n",
       "      <td>966.325422</td>\n",
       "      <td>Premium</td>\n",
       "      <td>Electronic check</td>\n",
       "      <td>Yes</td>\n",
       "      <td>TV Shows</td>\n",
       "      <td>No</td>\n",
       "      <td>TV</td>\n",
       "      <td>20.083397</td>\n",
       "      <td>...</td>\n",
       "      <td>20</td>\n",
       "      <td>Comedy</td>\n",
       "      <td>3.616170</td>\n",
       "      <td>4</td>\n",
       "      <td>Female</td>\n",
       "      <td>0</td>\n",
       "      <td>No</td>\n",
       "      <td>No</td>\n",
       "      <td>4LGYPK7VOL</td>\n",
       "      <td>0</td>\n",
       "    </tr>\n",
       "  </tbody>\n",
       "</table>\n",
       "<p>5 rows × 21 columns</p>\n",
       "</div>"
      ],
      "text/plain": [
       "   AccountAge  MonthlyCharges  TotalCharges SubscriptionType  \\\n",
       "0          20       11.055215    221.104302          Premium   \n",
       "1          57        5.175208    294.986882            Basic   \n",
       "2          73       12.106657    883.785952            Basic   \n",
       "3          32        7.263743    232.439774            Basic   \n",
       "4          57       16.953078    966.325422          Premium   \n",
       "\n",
       "      PaymentMethod PaperlessBilling ContentType MultiDeviceAccess  \\\n",
       "0      Mailed check               No        Both                No   \n",
       "1       Credit card              Yes      Movies                No   \n",
       "2      Mailed check              Yes      Movies                No   \n",
       "3  Electronic check               No    TV Shows                No   \n",
       "4  Electronic check              Yes    TV Shows                No   \n",
       "\n",
       "  DeviceRegistered  ViewingHoursPerWeek  ...  ContentDownloadsPerMonth  \\\n",
       "0           Mobile            36.758104  ...                        10   \n",
       "1           Tablet            32.450568  ...                        18   \n",
       "2         Computer             7.395160  ...                        23   \n",
       "3           Tablet            27.960389  ...                        30   \n",
       "4               TV            20.083397  ...                        20   \n",
       "\n",
       "   GenrePreference UserRating  SupportTicketsPerMonth  Gender WatchlistSize  \\\n",
       "0           Sci-Fi   2.176498                       4    Male             3   \n",
       "1           Action   3.478632                       8    Male            23   \n",
       "2          Fantasy   4.238824                       6    Male             1   \n",
       "3            Drama   4.276013                       2    Male            24   \n",
       "4           Comedy   3.616170                       4  Female             0   \n",
       "\n",
       "   ParentalControl SubtitlesEnabled  CustomerID Churn  \n",
       "0               No               No  CB6SXPNVZA     0  \n",
       "1               No              Yes  S7R2G87O09     0  \n",
       "2              Yes              Yes  EASDC20BDT     0  \n",
       "3              Yes              Yes  NPF69NT69N     0  \n",
       "4               No               No  4LGYPK7VOL     0  \n",
       "\n",
       "[5 rows x 21 columns]"
      ]
     },
     "execution_count": 119,
     "metadata": {},
     "output_type": "execute_result"
    }
   ],
   "source": [
    "train_raw_df.head()"
   ]
  },
  {
   "cell_type": "code",
   "execution_count": 120,
   "metadata": {},
   "outputs": [
    {
     "data": {
      "text/html": [
       "<div>\n",
       "<style scoped>\n",
       "    .dataframe tbody tr th:only-of-type {\n",
       "        vertical-align: middle;\n",
       "    }\n",
       "\n",
       "    .dataframe tbody tr th {\n",
       "        vertical-align: top;\n",
       "    }\n",
       "\n",
       "    .dataframe thead th {\n",
       "        text-align: right;\n",
       "    }\n",
       "</style>\n",
       "<table border=\"1\" class=\"dataframe\">\n",
       "  <thead>\n",
       "    <tr style=\"text-align: right;\">\n",
       "      <th></th>\n",
       "      <th>AccountAge</th>\n",
       "      <th>MonthlyCharges</th>\n",
       "      <th>TotalCharges</th>\n",
       "      <th>SubscriptionType</th>\n",
       "      <th>PaymentMethod</th>\n",
       "      <th>PaperlessBilling</th>\n",
       "      <th>ContentType</th>\n",
       "      <th>MultiDeviceAccess</th>\n",
       "      <th>DeviceRegistered</th>\n",
       "      <th>ViewingHoursPerWeek</th>\n",
       "      <th>AverageViewingDuration</th>\n",
       "      <th>ContentDownloadsPerMonth</th>\n",
       "      <th>GenrePreference</th>\n",
       "      <th>UserRating</th>\n",
       "      <th>SupportTicketsPerMonth</th>\n",
       "      <th>Gender</th>\n",
       "      <th>WatchlistSize</th>\n",
       "      <th>ParentalControl</th>\n",
       "      <th>SubtitlesEnabled</th>\n",
       "      <th>CustomerID</th>\n",
       "    </tr>\n",
       "  </thead>\n",
       "  <tbody>\n",
       "    <tr>\n",
       "      <th>0</th>\n",
       "      <td>38</td>\n",
       "      <td>17.869374</td>\n",
       "      <td>679.036195</td>\n",
       "      <td>Premium</td>\n",
       "      <td>Mailed check</td>\n",
       "      <td>No</td>\n",
       "      <td>TV Shows</td>\n",
       "      <td>No</td>\n",
       "      <td>TV</td>\n",
       "      <td>29.126308</td>\n",
       "      <td>122.274031</td>\n",
       "      <td>42</td>\n",
       "      <td>Comedy</td>\n",
       "      <td>3.522724</td>\n",
       "      <td>2</td>\n",
       "      <td>Male</td>\n",
       "      <td>23</td>\n",
       "      <td>No</td>\n",
       "      <td>No</td>\n",
       "      <td>O1W6BHP6RM</td>\n",
       "    </tr>\n",
       "    <tr>\n",
       "      <th>1</th>\n",
       "      <td>77</td>\n",
       "      <td>9.912854</td>\n",
       "      <td>763.289768</td>\n",
       "      <td>Basic</td>\n",
       "      <td>Electronic check</td>\n",
       "      <td>Yes</td>\n",
       "      <td>TV Shows</td>\n",
       "      <td>No</td>\n",
       "      <td>TV</td>\n",
       "      <td>36.873729</td>\n",
       "      <td>57.093319</td>\n",
       "      <td>43</td>\n",
       "      <td>Action</td>\n",
       "      <td>2.021545</td>\n",
       "      <td>2</td>\n",
       "      <td>Female</td>\n",
       "      <td>22</td>\n",
       "      <td>Yes</td>\n",
       "      <td>No</td>\n",
       "      <td>LFR4X92X8H</td>\n",
       "    </tr>\n",
       "    <tr>\n",
       "      <th>2</th>\n",
       "      <td>5</td>\n",
       "      <td>15.019011</td>\n",
       "      <td>75.095057</td>\n",
       "      <td>Standard</td>\n",
       "      <td>Bank transfer</td>\n",
       "      <td>No</td>\n",
       "      <td>TV Shows</td>\n",
       "      <td>Yes</td>\n",
       "      <td>Computer</td>\n",
       "      <td>7.601729</td>\n",
       "      <td>140.414001</td>\n",
       "      <td>14</td>\n",
       "      <td>Sci-Fi</td>\n",
       "      <td>4.806126</td>\n",
       "      <td>2</td>\n",
       "      <td>Female</td>\n",
       "      <td>22</td>\n",
       "      <td>No</td>\n",
       "      <td>Yes</td>\n",
       "      <td>QM5GBIYODA</td>\n",
       "    </tr>\n",
       "    <tr>\n",
       "      <th>3</th>\n",
       "      <td>88</td>\n",
       "      <td>15.357406</td>\n",
       "      <td>1351.451692</td>\n",
       "      <td>Standard</td>\n",
       "      <td>Electronic check</td>\n",
       "      <td>No</td>\n",
       "      <td>Both</td>\n",
       "      <td>Yes</td>\n",
       "      <td>Tablet</td>\n",
       "      <td>35.586430</td>\n",
       "      <td>177.002419</td>\n",
       "      <td>14</td>\n",
       "      <td>Comedy</td>\n",
       "      <td>4.943900</td>\n",
       "      <td>0</td>\n",
       "      <td>Female</td>\n",
       "      <td>23</td>\n",
       "      <td>Yes</td>\n",
       "      <td>Yes</td>\n",
       "      <td>D9RXTK2K9F</td>\n",
       "    </tr>\n",
       "    <tr>\n",
       "      <th>4</th>\n",
       "      <td>91</td>\n",
       "      <td>12.406033</td>\n",
       "      <td>1128.949004</td>\n",
       "      <td>Standard</td>\n",
       "      <td>Credit card</td>\n",
       "      <td>Yes</td>\n",
       "      <td>TV Shows</td>\n",
       "      <td>Yes</td>\n",
       "      <td>Tablet</td>\n",
       "      <td>23.503651</td>\n",
       "      <td>70.308376</td>\n",
       "      <td>6</td>\n",
       "      <td>Drama</td>\n",
       "      <td>2.846880</td>\n",
       "      <td>6</td>\n",
       "      <td>Female</td>\n",
       "      <td>0</td>\n",
       "      <td>No</td>\n",
       "      <td>No</td>\n",
       "      <td>ENTCCHR1LR</td>\n",
       "    </tr>\n",
       "  </tbody>\n",
       "</table>\n",
       "</div>"
      ],
      "text/plain": [
       "   AccountAge  MonthlyCharges  TotalCharges SubscriptionType  \\\n",
       "0          38       17.869374    679.036195          Premium   \n",
       "1          77        9.912854    763.289768            Basic   \n",
       "2           5       15.019011     75.095057         Standard   \n",
       "3          88       15.357406   1351.451692         Standard   \n",
       "4          91       12.406033   1128.949004         Standard   \n",
       "\n",
       "      PaymentMethod PaperlessBilling ContentType MultiDeviceAccess  \\\n",
       "0      Mailed check               No    TV Shows                No   \n",
       "1  Electronic check              Yes    TV Shows                No   \n",
       "2     Bank transfer               No    TV Shows               Yes   \n",
       "3  Electronic check               No        Both               Yes   \n",
       "4       Credit card              Yes    TV Shows               Yes   \n",
       "\n",
       "  DeviceRegistered  ViewingHoursPerWeek  AverageViewingDuration  \\\n",
       "0               TV            29.126308              122.274031   \n",
       "1               TV            36.873729               57.093319   \n",
       "2         Computer             7.601729              140.414001   \n",
       "3           Tablet            35.586430              177.002419   \n",
       "4           Tablet            23.503651               70.308376   \n",
       "\n",
       "   ContentDownloadsPerMonth GenrePreference  UserRating  \\\n",
       "0                        42          Comedy    3.522724   \n",
       "1                        43          Action    2.021545   \n",
       "2                        14          Sci-Fi    4.806126   \n",
       "3                        14          Comedy    4.943900   \n",
       "4                         6           Drama    2.846880   \n",
       "\n",
       "   SupportTicketsPerMonth  Gender  WatchlistSize ParentalControl  \\\n",
       "0                       2    Male             23              No   \n",
       "1                       2  Female             22             Yes   \n",
       "2                       2  Female             22              No   \n",
       "3                       0  Female             23             Yes   \n",
       "4                       6  Female              0              No   \n",
       "\n",
       "  SubtitlesEnabled  CustomerID  \n",
       "0               No  O1W6BHP6RM  \n",
       "1               No  LFR4X92X8H  \n",
       "2              Yes  QM5GBIYODA  \n",
       "3              Yes  D9RXTK2K9F  \n",
       "4               No  ENTCCHR1LR  "
      ]
     },
     "execution_count": 120,
     "metadata": {},
     "output_type": "execute_result"
    }
   ],
   "source": [
    "test_raw_df.head()"
   ]
  },
  {
   "cell_type": "markdown",
   "metadata": {},
   "source": [
    "> Noting that the precision of the float values are unnecessay. A monthly charge of $17.869374 does not make sense and should be $17.87"
   ]
  },
  {
   "cell_type": "code",
   "execution_count": 121,
   "metadata": {},
   "outputs": [
    {
     "data": {
      "text/html": [
       "<div>\n",
       "<style scoped>\n",
       "    .dataframe tbody tr th:only-of-type {\n",
       "        vertical-align: middle;\n",
       "    }\n",
       "\n",
       "    .dataframe tbody tr th {\n",
       "        vertical-align: top;\n",
       "    }\n",
       "\n",
       "    .dataframe thead th {\n",
       "        text-align: right;\n",
       "    }\n",
       "</style>\n",
       "<table border=\"1\" class=\"dataframe\">\n",
       "  <thead>\n",
       "    <tr style=\"text-align: right;\">\n",
       "      <th></th>\n",
       "      <th>AccountAge</th>\n",
       "      <th>MonthlyCharges</th>\n",
       "      <th>TotalCharges</th>\n",
       "      <th>SubscriptionType</th>\n",
       "      <th>PaymentMethod</th>\n",
       "      <th>PaperlessBilling</th>\n",
       "      <th>ContentType</th>\n",
       "      <th>MultiDeviceAccess</th>\n",
       "      <th>DeviceRegistered</th>\n",
       "      <th>ViewingHoursPerWeek</th>\n",
       "      <th>...</th>\n",
       "      <th>ContentDownloadsPerMonth</th>\n",
       "      <th>GenrePreference</th>\n",
       "      <th>UserRating</th>\n",
       "      <th>SupportTicketsPerMonth</th>\n",
       "      <th>Gender</th>\n",
       "      <th>WatchlistSize</th>\n",
       "      <th>ParentalControl</th>\n",
       "      <th>SubtitlesEnabled</th>\n",
       "      <th>CustomerID</th>\n",
       "      <th>Churn</th>\n",
       "    </tr>\n",
       "  </thead>\n",
       "  <tbody>\n",
       "    <tr>\n",
       "      <th>163502</th>\n",
       "      <td>57</td>\n",
       "      <td>17.449082</td>\n",
       "      <td>994.597701</td>\n",
       "      <td>Premium</td>\n",
       "      <td>Bank transfer</td>\n",
       "      <td>No</td>\n",
       "      <td>TV Shows</td>\n",
       "      <td>No</td>\n",
       "      <td>Computer</td>\n",
       "      <td>15.389308</td>\n",
       "      <td>...</td>\n",
       "      <td>17</td>\n",
       "      <td>Drama</td>\n",
       "      <td>2.328344</td>\n",
       "      <td>3</td>\n",
       "      <td>Male</td>\n",
       "      <td>11</td>\n",
       "      <td>No</td>\n",
       "      <td>No</td>\n",
       "      <td>F9EMHD95NT</td>\n",
       "      <td>1</td>\n",
       "    </tr>\n",
       "    <tr>\n",
       "      <th>162251</th>\n",
       "      <td>17</td>\n",
       "      <td>10.233929</td>\n",
       "      <td>173.976795</td>\n",
       "      <td>Premium</td>\n",
       "      <td>Mailed check</td>\n",
       "      <td>No</td>\n",
       "      <td>Movies</td>\n",
       "      <td>Yes</td>\n",
       "      <td>TV</td>\n",
       "      <td>22.560299</td>\n",
       "      <td>...</td>\n",
       "      <td>26</td>\n",
       "      <td>Comedy</td>\n",
       "      <td>4.481471</td>\n",
       "      <td>9</td>\n",
       "      <td>Male</td>\n",
       "      <td>7</td>\n",
       "      <td>Yes</td>\n",
       "      <td>Yes</td>\n",
       "      <td>2MQEND3JCQ</td>\n",
       "      <td>1</td>\n",
       "    </tr>\n",
       "    <tr>\n",
       "      <th>4870</th>\n",
       "      <td>35</td>\n",
       "      <td>10.101147</td>\n",
       "      <td>353.540149</td>\n",
       "      <td>Basic</td>\n",
       "      <td>Electronic check</td>\n",
       "      <td>No</td>\n",
       "      <td>Movies</td>\n",
       "      <td>No</td>\n",
       "      <td>Computer</td>\n",
       "      <td>32.323717</td>\n",
       "      <td>...</td>\n",
       "      <td>15</td>\n",
       "      <td>Sci-Fi</td>\n",
       "      <td>2.332089</td>\n",
       "      <td>8</td>\n",
       "      <td>Female</td>\n",
       "      <td>16</td>\n",
       "      <td>No</td>\n",
       "      <td>Yes</td>\n",
       "      <td>LKMM7815ID</td>\n",
       "      <td>0</td>\n",
       "    </tr>\n",
       "    <tr>\n",
       "      <th>234772</th>\n",
       "      <td>14</td>\n",
       "      <td>19.141657</td>\n",
       "      <td>267.983203</td>\n",
       "      <td>Standard</td>\n",
       "      <td>Mailed check</td>\n",
       "      <td>Yes</td>\n",
       "      <td>Both</td>\n",
       "      <td>No</td>\n",
       "      <td>Mobile</td>\n",
       "      <td>17.447951</td>\n",
       "      <td>...</td>\n",
       "      <td>15</td>\n",
       "      <td>Drama</td>\n",
       "      <td>3.220327</td>\n",
       "      <td>2</td>\n",
       "      <td>Female</td>\n",
       "      <td>15</td>\n",
       "      <td>No</td>\n",
       "      <td>No</td>\n",
       "      <td>GC6NH2U9C2</td>\n",
       "      <td>1</td>\n",
       "    </tr>\n",
       "    <tr>\n",
       "      <th>53730</th>\n",
       "      <td>16</td>\n",
       "      <td>12.029515</td>\n",
       "      <td>192.472246</td>\n",
       "      <td>Standard</td>\n",
       "      <td>Bank transfer</td>\n",
       "      <td>Yes</td>\n",
       "      <td>Movies</td>\n",
       "      <td>No</td>\n",
       "      <td>Computer</td>\n",
       "      <td>11.714178</td>\n",
       "      <td>...</td>\n",
       "      <td>10</td>\n",
       "      <td>Action</td>\n",
       "      <td>1.411203</td>\n",
       "      <td>4</td>\n",
       "      <td>Male</td>\n",
       "      <td>12</td>\n",
       "      <td>Yes</td>\n",
       "      <td>Yes</td>\n",
       "      <td>0DAUY4N7LF</td>\n",
       "      <td>0</td>\n",
       "    </tr>\n",
       "  </tbody>\n",
       "</table>\n",
       "<p>5 rows × 21 columns</p>\n",
       "</div>"
      ],
      "text/plain": [
       "        AccountAge  MonthlyCharges  TotalCharges SubscriptionType  \\\n",
       "163502          57       17.449082    994.597701          Premium   \n",
       "162251          17       10.233929    173.976795          Premium   \n",
       "4870            35       10.101147    353.540149            Basic   \n",
       "234772          14       19.141657    267.983203         Standard   \n",
       "53730           16       12.029515    192.472246         Standard   \n",
       "\n",
       "           PaymentMethod PaperlessBilling ContentType MultiDeviceAccess  \\\n",
       "163502     Bank transfer               No    TV Shows                No   \n",
       "162251      Mailed check               No      Movies               Yes   \n",
       "4870    Electronic check               No      Movies                No   \n",
       "234772      Mailed check              Yes        Both                No   \n",
       "53730      Bank transfer              Yes      Movies                No   \n",
       "\n",
       "       DeviceRegistered  ViewingHoursPerWeek  ...  ContentDownloadsPerMonth  \\\n",
       "163502         Computer            15.389308  ...                        17   \n",
       "162251               TV            22.560299  ...                        26   \n",
       "4870           Computer            32.323717  ...                        15   \n",
       "234772           Mobile            17.447951  ...                        15   \n",
       "53730          Computer            11.714178  ...                        10   \n",
       "\n",
       "        GenrePreference UserRating  SupportTicketsPerMonth  Gender  \\\n",
       "163502            Drama   2.328344                       3    Male   \n",
       "162251           Comedy   4.481471                       9    Male   \n",
       "4870             Sci-Fi   2.332089                       8  Female   \n",
       "234772            Drama   3.220327                       2  Female   \n",
       "53730            Action   1.411203                       4    Male   \n",
       "\n",
       "       WatchlistSize  ParentalControl SubtitlesEnabled  CustomerID Churn  \n",
       "163502            11               No               No  F9EMHD95NT     1  \n",
       "162251             7              Yes              Yes  2MQEND3JCQ     1  \n",
       "4870              16               No              Yes  LKMM7815ID     0  \n",
       "234772            15               No               No  GC6NH2U9C2     1  \n",
       "53730             12              Yes              Yes  0DAUY4N7LF     0  \n",
       "\n",
       "[5 rows x 21 columns]"
      ]
     },
     "execution_count": 121,
     "metadata": {},
     "output_type": "execute_result"
    }
   ],
   "source": [
    "train_raw_df.sample(5)"
   ]
  },
  {
   "cell_type": "code",
   "execution_count": 122,
   "metadata": {},
   "outputs": [
    {
     "data": {
      "text/html": [
       "<div>\n",
       "<style scoped>\n",
       "    .dataframe tbody tr th:only-of-type {\n",
       "        vertical-align: middle;\n",
       "    }\n",
       "\n",
       "    .dataframe tbody tr th {\n",
       "        vertical-align: top;\n",
       "    }\n",
       "\n",
       "    .dataframe thead th {\n",
       "        text-align: right;\n",
       "    }\n",
       "</style>\n",
       "<table border=\"1\" class=\"dataframe\">\n",
       "  <thead>\n",
       "    <tr style=\"text-align: right;\">\n",
       "      <th></th>\n",
       "      <th>AccountAge</th>\n",
       "      <th>MonthlyCharges</th>\n",
       "      <th>TotalCharges</th>\n",
       "      <th>SubscriptionType</th>\n",
       "      <th>PaymentMethod</th>\n",
       "      <th>PaperlessBilling</th>\n",
       "      <th>ContentType</th>\n",
       "      <th>MultiDeviceAccess</th>\n",
       "      <th>DeviceRegistered</th>\n",
       "      <th>ViewingHoursPerWeek</th>\n",
       "      <th>AverageViewingDuration</th>\n",
       "      <th>ContentDownloadsPerMonth</th>\n",
       "      <th>GenrePreference</th>\n",
       "      <th>UserRating</th>\n",
       "      <th>SupportTicketsPerMonth</th>\n",
       "      <th>Gender</th>\n",
       "      <th>WatchlistSize</th>\n",
       "      <th>ParentalControl</th>\n",
       "      <th>SubtitlesEnabled</th>\n",
       "      <th>CustomerID</th>\n",
       "    </tr>\n",
       "  </thead>\n",
       "  <tbody>\n",
       "    <tr>\n",
       "      <th>58525</th>\n",
       "      <td>94</td>\n",
       "      <td>10.725389</td>\n",
       "      <td>1008.186536</td>\n",
       "      <td>Basic</td>\n",
       "      <td>Electronic check</td>\n",
       "      <td>Yes</td>\n",
       "      <td>Both</td>\n",
       "      <td>No</td>\n",
       "      <td>Computer</td>\n",
       "      <td>10.609954</td>\n",
       "      <td>176.470696</td>\n",
       "      <td>5</td>\n",
       "      <td>Fantasy</td>\n",
       "      <td>1.130909</td>\n",
       "      <td>0</td>\n",
       "      <td>Female</td>\n",
       "      <td>12</td>\n",
       "      <td>No</td>\n",
       "      <td>Yes</td>\n",
       "      <td>WPIQIDKDT6</td>\n",
       "    </tr>\n",
       "    <tr>\n",
       "      <th>21597</th>\n",
       "      <td>114</td>\n",
       "      <td>11.470068</td>\n",
       "      <td>1307.587799</td>\n",
       "      <td>Basic</td>\n",
       "      <td>Electronic check</td>\n",
       "      <td>Yes</td>\n",
       "      <td>Both</td>\n",
       "      <td>No</td>\n",
       "      <td>Computer</td>\n",
       "      <td>8.666098</td>\n",
       "      <td>92.526814</td>\n",
       "      <td>45</td>\n",
       "      <td>Sci-Fi</td>\n",
       "      <td>3.087956</td>\n",
       "      <td>3</td>\n",
       "      <td>Female</td>\n",
       "      <td>23</td>\n",
       "      <td>No</td>\n",
       "      <td>Yes</td>\n",
       "      <td>779SJS3OQU</td>\n",
       "    </tr>\n",
       "    <tr>\n",
       "      <th>1755</th>\n",
       "      <td>32</td>\n",
       "      <td>10.389880</td>\n",
       "      <td>332.476157</td>\n",
       "      <td>Standard</td>\n",
       "      <td>Electronic check</td>\n",
       "      <td>No</td>\n",
       "      <td>Both</td>\n",
       "      <td>No</td>\n",
       "      <td>TV</td>\n",
       "      <td>37.778110</td>\n",
       "      <td>108.684118</td>\n",
       "      <td>38</td>\n",
       "      <td>Fantasy</td>\n",
       "      <td>3.233877</td>\n",
       "      <td>7</td>\n",
       "      <td>Male</td>\n",
       "      <td>17</td>\n",
       "      <td>No</td>\n",
       "      <td>No</td>\n",
       "      <td>XIAVL3TT71</td>\n",
       "    </tr>\n",
       "    <tr>\n",
       "      <th>34725</th>\n",
       "      <td>14</td>\n",
       "      <td>12.607380</td>\n",
       "      <td>176.503316</td>\n",
       "      <td>Basic</td>\n",
       "      <td>Bank transfer</td>\n",
       "      <td>Yes</td>\n",
       "      <td>TV Shows</td>\n",
       "      <td>Yes</td>\n",
       "      <td>TV</td>\n",
       "      <td>28.807173</td>\n",
       "      <td>15.850715</td>\n",
       "      <td>48</td>\n",
       "      <td>Sci-Fi</td>\n",
       "      <td>4.998671</td>\n",
       "      <td>8</td>\n",
       "      <td>Female</td>\n",
       "      <td>2</td>\n",
       "      <td>Yes</td>\n",
       "      <td>Yes</td>\n",
       "      <td>OEU41JYALJ</td>\n",
       "    </tr>\n",
       "    <tr>\n",
       "      <th>75303</th>\n",
       "      <td>43</td>\n",
       "      <td>10.432553</td>\n",
       "      <td>448.599772</td>\n",
       "      <td>Basic</td>\n",
       "      <td>Credit card</td>\n",
       "      <td>No</td>\n",
       "      <td>Both</td>\n",
       "      <td>Yes</td>\n",
       "      <td>TV</td>\n",
       "      <td>26.831444</td>\n",
       "      <td>104.263156</td>\n",
       "      <td>17</td>\n",
       "      <td>Action</td>\n",
       "      <td>2.732252</td>\n",
       "      <td>2</td>\n",
       "      <td>Female</td>\n",
       "      <td>12</td>\n",
       "      <td>Yes</td>\n",
       "      <td>Yes</td>\n",
       "      <td>CG9HWRK8ZV</td>\n",
       "    </tr>\n",
       "  </tbody>\n",
       "</table>\n",
       "</div>"
      ],
      "text/plain": [
       "       AccountAge  MonthlyCharges  TotalCharges SubscriptionType  \\\n",
       "58525          94       10.725389   1008.186536            Basic   \n",
       "21597         114       11.470068   1307.587799            Basic   \n",
       "1755           32       10.389880    332.476157         Standard   \n",
       "34725          14       12.607380    176.503316            Basic   \n",
       "75303          43       10.432553    448.599772            Basic   \n",
       "\n",
       "          PaymentMethod PaperlessBilling ContentType MultiDeviceAccess  \\\n",
       "58525  Electronic check              Yes        Both                No   \n",
       "21597  Electronic check              Yes        Both                No   \n",
       "1755   Electronic check               No        Both                No   \n",
       "34725     Bank transfer              Yes    TV Shows               Yes   \n",
       "75303       Credit card               No        Both               Yes   \n",
       "\n",
       "      DeviceRegistered  ViewingHoursPerWeek  AverageViewingDuration  \\\n",
       "58525         Computer            10.609954              176.470696   \n",
       "21597         Computer             8.666098               92.526814   \n",
       "1755                TV            37.778110              108.684118   \n",
       "34725               TV            28.807173               15.850715   \n",
       "75303               TV            26.831444              104.263156   \n",
       "\n",
       "       ContentDownloadsPerMonth GenrePreference  UserRating  \\\n",
       "58525                         5         Fantasy    1.130909   \n",
       "21597                        45          Sci-Fi    3.087956   \n",
       "1755                         38         Fantasy    3.233877   \n",
       "34725                        48          Sci-Fi    4.998671   \n",
       "75303                        17          Action    2.732252   \n",
       "\n",
       "       SupportTicketsPerMonth  Gender  WatchlistSize ParentalControl  \\\n",
       "58525                       0  Female             12              No   \n",
       "21597                       3  Female             23              No   \n",
       "1755                        7    Male             17              No   \n",
       "34725                       8  Female              2             Yes   \n",
       "75303                       2  Female             12             Yes   \n",
       "\n",
       "      SubtitlesEnabled  CustomerID  \n",
       "58525              Yes  WPIQIDKDT6  \n",
       "21597              Yes  779SJS3OQU  \n",
       "1755                No  XIAVL3TT71  \n",
       "34725              Yes  OEU41JYALJ  \n",
       "75303              Yes  CG9HWRK8ZV  "
      ]
     },
     "execution_count": 122,
     "metadata": {},
     "output_type": "execute_result"
    }
   ],
   "source": [
    "test_raw_df.sample(5)"
   ]
  },
  {
   "cell_type": "markdown",
   "metadata": {},
   "source": [
    "> Noting that the test data does not contain values for churn."
   ]
  },
  {
   "cell_type": "code",
   "execution_count": 123,
   "metadata": {},
   "outputs": [
    {
     "data": {
      "text/plain": [
       "(243787, 21)"
      ]
     },
     "execution_count": 123,
     "metadata": {},
     "output_type": "execute_result"
    }
   ],
   "source": [
    "train_raw_df.shape"
   ]
  },
  {
   "cell_type": "code",
   "execution_count": 124,
   "metadata": {},
   "outputs": [
    {
     "data": {
      "text/plain": [
       "(104480, 20)"
      ]
     },
     "execution_count": 124,
     "metadata": {},
     "output_type": "execute_result"
    }
   ],
   "source": [
    "test_raw_df.shape"
   ]
  },
  {
   "cell_type": "markdown",
   "metadata": {},
   "source": [
    "> Looking at some basic statistics for the quantitative data"
   ]
  },
  {
   "cell_type": "code",
   "execution_count": 125,
   "metadata": {},
   "outputs": [
    {
     "data": {
      "text/html": [
       "<div>\n",
       "<style scoped>\n",
       "    .dataframe tbody tr th:only-of-type {\n",
       "        vertical-align: middle;\n",
       "    }\n",
       "\n",
       "    .dataframe tbody tr th {\n",
       "        vertical-align: top;\n",
       "    }\n",
       "\n",
       "    .dataframe thead th {\n",
       "        text-align: right;\n",
       "    }\n",
       "</style>\n",
       "<table border=\"1\" class=\"dataframe\">\n",
       "  <thead>\n",
       "    <tr style=\"text-align: right;\">\n",
       "      <th></th>\n",
       "      <th>AccountAge</th>\n",
       "      <th>MonthlyCharges</th>\n",
       "      <th>TotalCharges</th>\n",
       "      <th>ViewingHoursPerWeek</th>\n",
       "      <th>AverageViewingDuration</th>\n",
       "      <th>ContentDownloadsPerMonth</th>\n",
       "      <th>UserRating</th>\n",
       "      <th>SupportTicketsPerMonth</th>\n",
       "      <th>WatchlistSize</th>\n",
       "      <th>Churn</th>\n",
       "    </tr>\n",
       "  </thead>\n",
       "  <tbody>\n",
       "    <tr>\n",
       "      <th>count</th>\n",
       "      <td>243787.000000</td>\n",
       "      <td>243787.000000</td>\n",
       "      <td>243787.000000</td>\n",
       "      <td>243787.000000</td>\n",
       "      <td>243787.000000</td>\n",
       "      <td>243787.000000</td>\n",
       "      <td>243787.000000</td>\n",
       "      <td>243787.000000</td>\n",
       "      <td>243787.000000</td>\n",
       "      <td>243787.000000</td>\n",
       "    </tr>\n",
       "    <tr>\n",
       "      <th>mean</th>\n",
       "      <td>60.083758</td>\n",
       "      <td>12.490695</td>\n",
       "      <td>750.741017</td>\n",
       "      <td>20.502179</td>\n",
       "      <td>92.264061</td>\n",
       "      <td>24.503513</td>\n",
       "      <td>3.002713</td>\n",
       "      <td>4.504186</td>\n",
       "      <td>12.018508</td>\n",
       "      <td>0.181232</td>\n",
       "    </tr>\n",
       "    <tr>\n",
       "      <th>std</th>\n",
       "      <td>34.285143</td>\n",
       "      <td>4.327615</td>\n",
       "      <td>523.073273</td>\n",
       "      <td>11.243753</td>\n",
       "      <td>50.505243</td>\n",
       "      <td>14.421174</td>\n",
       "      <td>1.155259</td>\n",
       "      <td>2.872548</td>\n",
       "      <td>7.193034</td>\n",
       "      <td>0.385211</td>\n",
       "    </tr>\n",
       "    <tr>\n",
       "      <th>min</th>\n",
       "      <td>1.000000</td>\n",
       "      <td>4.990062</td>\n",
       "      <td>4.991154</td>\n",
       "      <td>1.000065</td>\n",
       "      <td>5.000547</td>\n",
       "      <td>0.000000</td>\n",
       "      <td>1.000007</td>\n",
       "      <td>0.000000</td>\n",
       "      <td>0.000000</td>\n",
       "      <td>0.000000</td>\n",
       "    </tr>\n",
       "    <tr>\n",
       "      <th>25%</th>\n",
       "      <td>30.000000</td>\n",
       "      <td>8.738543</td>\n",
       "      <td>329.147027</td>\n",
       "      <td>10.763953</td>\n",
       "      <td>48.382395</td>\n",
       "      <td>12.000000</td>\n",
       "      <td>2.000853</td>\n",
       "      <td>2.000000</td>\n",
       "      <td>6.000000</td>\n",
       "      <td>0.000000</td>\n",
       "    </tr>\n",
       "    <tr>\n",
       "      <th>50%</th>\n",
       "      <td>60.000000</td>\n",
       "      <td>12.495555</td>\n",
       "      <td>649.878487</td>\n",
       "      <td>20.523116</td>\n",
       "      <td>92.249992</td>\n",
       "      <td>24.000000</td>\n",
       "      <td>3.002261</td>\n",
       "      <td>4.000000</td>\n",
       "      <td>12.000000</td>\n",
       "      <td>0.000000</td>\n",
       "    </tr>\n",
       "    <tr>\n",
       "      <th>75%</th>\n",
       "      <td>90.000000</td>\n",
       "      <td>16.238160</td>\n",
       "      <td>1089.317362</td>\n",
       "      <td>30.219396</td>\n",
       "      <td>135.908048</td>\n",
       "      <td>37.000000</td>\n",
       "      <td>4.002157</td>\n",
       "      <td>7.000000</td>\n",
       "      <td>18.000000</td>\n",
       "      <td>0.000000</td>\n",
       "    </tr>\n",
       "    <tr>\n",
       "      <th>max</th>\n",
       "      <td>119.000000</td>\n",
       "      <td>19.989957</td>\n",
       "      <td>2378.723844</td>\n",
       "      <td>39.999723</td>\n",
       "      <td>179.999275</td>\n",
       "      <td>49.000000</td>\n",
       "      <td>4.999989</td>\n",
       "      <td>9.000000</td>\n",
       "      <td>24.000000</td>\n",
       "      <td>1.000000</td>\n",
       "    </tr>\n",
       "  </tbody>\n",
       "</table>\n",
       "</div>"
      ],
      "text/plain": [
       "          AccountAge  MonthlyCharges   TotalCharges  ViewingHoursPerWeek  \\\n",
       "count  243787.000000   243787.000000  243787.000000        243787.000000   \n",
       "mean       60.083758       12.490695     750.741017            20.502179   \n",
       "std        34.285143        4.327615     523.073273            11.243753   \n",
       "min         1.000000        4.990062       4.991154             1.000065   \n",
       "25%        30.000000        8.738543     329.147027            10.763953   \n",
       "50%        60.000000       12.495555     649.878487            20.523116   \n",
       "75%        90.000000       16.238160    1089.317362            30.219396   \n",
       "max       119.000000       19.989957    2378.723844            39.999723   \n",
       "\n",
       "       AverageViewingDuration  ContentDownloadsPerMonth     UserRating  \\\n",
       "count           243787.000000             243787.000000  243787.000000   \n",
       "mean                92.264061                 24.503513       3.002713   \n",
       "std                 50.505243                 14.421174       1.155259   \n",
       "min                  5.000547                  0.000000       1.000007   \n",
       "25%                 48.382395                 12.000000       2.000853   \n",
       "50%                 92.249992                 24.000000       3.002261   \n",
       "75%                135.908048                 37.000000       4.002157   \n",
       "max                179.999275                 49.000000       4.999989   \n",
       "\n",
       "       SupportTicketsPerMonth  WatchlistSize          Churn  \n",
       "count           243787.000000  243787.000000  243787.000000  \n",
       "mean                 4.504186      12.018508       0.181232  \n",
       "std                  2.872548       7.193034       0.385211  \n",
       "min                  0.000000       0.000000       0.000000  \n",
       "25%                  2.000000       6.000000       0.000000  \n",
       "50%                  4.000000      12.000000       0.000000  \n",
       "75%                  7.000000      18.000000       0.000000  \n",
       "max                  9.000000      24.000000       1.000000  "
      ]
     },
     "execution_count": 125,
     "metadata": {},
     "output_type": "execute_result"
    }
   ],
   "source": [
    "train_raw_df.describe()"
   ]
  },
  {
   "cell_type": "code",
   "execution_count": 126,
   "metadata": {},
   "outputs": [
    {
     "data": {
      "text/html": [
       "<div>\n",
       "<style scoped>\n",
       "    .dataframe tbody tr th:only-of-type {\n",
       "        vertical-align: middle;\n",
       "    }\n",
       "\n",
       "    .dataframe tbody tr th {\n",
       "        vertical-align: top;\n",
       "    }\n",
       "\n",
       "    .dataframe thead th {\n",
       "        text-align: right;\n",
       "    }\n",
       "</style>\n",
       "<table border=\"1\" class=\"dataframe\">\n",
       "  <thead>\n",
       "    <tr style=\"text-align: right;\">\n",
       "      <th></th>\n",
       "      <th>AccountAge</th>\n",
       "      <th>MonthlyCharges</th>\n",
       "      <th>TotalCharges</th>\n",
       "      <th>ViewingHoursPerWeek</th>\n",
       "      <th>AverageViewingDuration</th>\n",
       "      <th>ContentDownloadsPerMonth</th>\n",
       "      <th>UserRating</th>\n",
       "      <th>SupportTicketsPerMonth</th>\n",
       "      <th>WatchlistSize</th>\n",
       "    </tr>\n",
       "  </thead>\n",
       "  <tbody>\n",
       "    <tr>\n",
       "      <th>count</th>\n",
       "      <td>104480.000000</td>\n",
       "      <td>104480.000000</td>\n",
       "      <td>104480.000000</td>\n",
       "      <td>104480.000000</td>\n",
       "      <td>104480.000000</td>\n",
       "      <td>104480.000000</td>\n",
       "      <td>104480.000000</td>\n",
       "      <td>104480.000000</td>\n",
       "      <td>104480.000000</td>\n",
       "    </tr>\n",
       "    <tr>\n",
       "      <th>mean</th>\n",
       "      <td>60.064692</td>\n",
       "      <td>12.474347</td>\n",
       "      <td>748.167669</td>\n",
       "      <td>20.489914</td>\n",
       "      <td>92.646128</td>\n",
       "      <td>24.450900</td>\n",
       "      <td>3.000958</td>\n",
       "      <td>4.507705</td>\n",
       "      <td>12.040400</td>\n",
       "    </tr>\n",
       "    <tr>\n",
       "      <th>std</th>\n",
       "      <td>34.285025</td>\n",
       "      <td>4.331734</td>\n",
       "      <td>520.782838</td>\n",
       "      <td>11.243173</td>\n",
       "      <td>50.631406</td>\n",
       "      <td>14.451309</td>\n",
       "      <td>1.154689</td>\n",
       "      <td>2.876700</td>\n",
       "      <td>7.204115</td>\n",
       "    </tr>\n",
       "    <tr>\n",
       "      <th>min</th>\n",
       "      <td>1.000000</td>\n",
       "      <td>4.990051</td>\n",
       "      <td>5.019144</td>\n",
       "      <td>1.000528</td>\n",
       "      <td>5.000985</td>\n",
       "      <td>0.000000</td>\n",
       "      <td>1.000016</td>\n",
       "      <td>0.000000</td>\n",
       "      <td>0.000000</td>\n",
       "    </tr>\n",
       "    <tr>\n",
       "      <th>25%</th>\n",
       "      <td>30.000000</td>\n",
       "      <td>8.725621</td>\n",
       "      <td>328.961543</td>\n",
       "      <td>10.767551</td>\n",
       "      <td>48.554662</td>\n",
       "      <td>12.000000</td>\n",
       "      <td>2.000577</td>\n",
       "      <td>2.000000</td>\n",
       "      <td>6.000000</td>\n",
       "    </tr>\n",
       "    <tr>\n",
       "      <th>50%</th>\n",
       "      <td>60.000000</td>\n",
       "      <td>12.453073</td>\n",
       "      <td>649.385029</td>\n",
       "      <td>20.472305</td>\n",
       "      <td>92.533168</td>\n",
       "      <td>25.000000</td>\n",
       "      <td>2.997293</td>\n",
       "      <td>5.000000</td>\n",
       "      <td>12.000000</td>\n",
       "    </tr>\n",
       "    <tr>\n",
       "      <th>75%</th>\n",
       "      <td>90.000000</td>\n",
       "      <td>16.214247</td>\n",
       "      <td>1081.266991</td>\n",
       "      <td>30.196107</td>\n",
       "      <td>136.622615</td>\n",
       "      <td>37.000000</td>\n",
       "      <td>4.000671</td>\n",
       "      <td>7.000000</td>\n",
       "      <td>18.000000</td>\n",
       "    </tr>\n",
       "    <tr>\n",
       "      <th>max</th>\n",
       "      <td>119.000000</td>\n",
       "      <td>19.989797</td>\n",
       "      <td>2376.235183</td>\n",
       "      <td>39.999296</td>\n",
       "      <td>179.999785</td>\n",
       "      <td>49.000000</td>\n",
       "      <td>4.999930</td>\n",
       "      <td>9.000000</td>\n",
       "      <td>24.000000</td>\n",
       "    </tr>\n",
       "  </tbody>\n",
       "</table>\n",
       "</div>"
      ],
      "text/plain": [
       "          AccountAge  MonthlyCharges   TotalCharges  ViewingHoursPerWeek  \\\n",
       "count  104480.000000   104480.000000  104480.000000        104480.000000   \n",
       "mean       60.064692       12.474347     748.167669            20.489914   \n",
       "std        34.285025        4.331734     520.782838            11.243173   \n",
       "min         1.000000        4.990051       5.019144             1.000528   \n",
       "25%        30.000000        8.725621     328.961543            10.767551   \n",
       "50%        60.000000       12.453073     649.385029            20.472305   \n",
       "75%        90.000000       16.214247    1081.266991            30.196107   \n",
       "max       119.000000       19.989797    2376.235183            39.999296   \n",
       "\n",
       "       AverageViewingDuration  ContentDownloadsPerMonth     UserRating  \\\n",
       "count           104480.000000             104480.000000  104480.000000   \n",
       "mean                92.646128                 24.450900       3.000958   \n",
       "std                 50.631406                 14.451309       1.154689   \n",
       "min                  5.000985                  0.000000       1.000016   \n",
       "25%                 48.554662                 12.000000       2.000577   \n",
       "50%                 92.533168                 25.000000       2.997293   \n",
       "75%                136.622615                 37.000000       4.000671   \n",
       "max                179.999785                 49.000000       4.999930   \n",
       "\n",
       "       SupportTicketsPerMonth  WatchlistSize  \n",
       "count           104480.000000  104480.000000  \n",
       "mean                 4.507705      12.040400  \n",
       "std                  2.876700       7.204115  \n",
       "min                  0.000000       0.000000  \n",
       "25%                  2.000000       6.000000  \n",
       "50%                  5.000000      12.000000  \n",
       "75%                  7.000000      18.000000  \n",
       "max                  9.000000      24.000000  "
      ]
     },
     "execution_count": 126,
     "metadata": {},
     "output_type": "execute_result"
    }
   ],
   "source": [
    "test_raw_df.describe()"
   ]
  },
  {
   "cell_type": "markdown",
   "metadata": {},
   "source": [
    "> Looking at the data types for each coloumn"
   ]
  },
  {
   "cell_type": "code",
   "execution_count": 127,
   "metadata": {},
   "outputs": [
    {
     "name": "stdout",
     "output_type": "stream",
     "text": [
      "<class 'pandas.core.frame.DataFrame'>\n",
      "RangeIndex: 243787 entries, 0 to 243786\n",
      "Data columns (total 21 columns):\n",
      " #   Column                    Non-Null Count   Dtype  \n",
      "---  ------                    --------------   -----  \n",
      " 0   AccountAge                243787 non-null  int64  \n",
      " 1   MonthlyCharges            243787 non-null  float64\n",
      " 2   TotalCharges              243787 non-null  float64\n",
      " 3   SubscriptionType          243787 non-null  object \n",
      " 4   PaymentMethod             243787 non-null  object \n",
      " 5   PaperlessBilling          243787 non-null  object \n",
      " 6   ContentType               243787 non-null  object \n",
      " 7   MultiDeviceAccess         243787 non-null  object \n",
      " 8   DeviceRegistered          243787 non-null  object \n",
      " 9   ViewingHoursPerWeek       243787 non-null  float64\n",
      " 10  AverageViewingDuration    243787 non-null  float64\n",
      " 11  ContentDownloadsPerMonth  243787 non-null  int64  \n",
      " 12  GenrePreference           243787 non-null  object \n",
      " 13  UserRating                243787 non-null  float64\n",
      " 14  SupportTicketsPerMonth    243787 non-null  int64  \n",
      " 15  Gender                    243787 non-null  object \n",
      " 16  WatchlistSize             243787 non-null  int64  \n",
      " 17  ParentalControl           243787 non-null  object \n",
      " 18  SubtitlesEnabled          243787 non-null  object \n",
      " 19  CustomerID                243787 non-null  object \n",
      " 20  Churn                     243787 non-null  int64  \n",
      "dtypes: float64(5), int64(5), object(11)\n",
      "memory usage: 39.1+ MB\n"
     ]
    }
   ],
   "source": [
    "train_raw_df.info()"
   ]
  },
  {
   "cell_type": "code",
   "execution_count": 128,
   "metadata": {},
   "outputs": [
    {
     "name": "stdout",
     "output_type": "stream",
     "text": [
      "<class 'pandas.core.frame.DataFrame'>\n",
      "RangeIndex: 104480 entries, 0 to 104479\n",
      "Data columns (total 20 columns):\n",
      " #   Column                    Non-Null Count   Dtype  \n",
      "---  ------                    --------------   -----  \n",
      " 0   AccountAge                104480 non-null  int64  \n",
      " 1   MonthlyCharges            104480 non-null  float64\n",
      " 2   TotalCharges              104480 non-null  float64\n",
      " 3   SubscriptionType          104480 non-null  object \n",
      " 4   PaymentMethod             104480 non-null  object \n",
      " 5   PaperlessBilling          104480 non-null  object \n",
      " 6   ContentType               104480 non-null  object \n",
      " 7   MultiDeviceAccess         104480 non-null  object \n",
      " 8   DeviceRegistered          104480 non-null  object \n",
      " 9   ViewingHoursPerWeek       104480 non-null  float64\n",
      " 10  AverageViewingDuration    104480 non-null  float64\n",
      " 11  ContentDownloadsPerMonth  104480 non-null  int64  \n",
      " 12  GenrePreference           104480 non-null  object \n",
      " 13  UserRating                104480 non-null  float64\n",
      " 14  SupportTicketsPerMonth    104480 non-null  int64  \n",
      " 15  Gender                    104480 non-null  object \n",
      " 16  WatchlistSize             104480 non-null  int64  \n",
      " 17  ParentalControl           104480 non-null  object \n",
      " 18  SubtitlesEnabled          104480 non-null  object \n",
      " 19  CustomerID                104480 non-null  object \n",
      "dtypes: float64(5), int64(4), object(11)\n",
      "memory usage: 15.9+ MB\n"
     ]
    }
   ],
   "source": [
    "test_raw_df.info()"
   ]
  },
  {
   "cell_type": "markdown",
   "metadata": {},
   "source": [
    "> Validate that their are no missing values"
   ]
  },
  {
   "cell_type": "code",
   "execution_count": 129,
   "metadata": {},
   "outputs": [
    {
     "data": {
      "text/plain": [
       "AccountAge                  0\n",
       "MonthlyCharges              0\n",
       "TotalCharges                0\n",
       "SubscriptionType            0\n",
       "PaymentMethod               0\n",
       "PaperlessBilling            0\n",
       "ContentType                 0\n",
       "MultiDeviceAccess           0\n",
       "DeviceRegistered            0\n",
       "ViewingHoursPerWeek         0\n",
       "AverageViewingDuration      0\n",
       "ContentDownloadsPerMonth    0\n",
       "GenrePreference             0\n",
       "UserRating                  0\n",
       "SupportTicketsPerMonth      0\n",
       "Gender                      0\n",
       "WatchlistSize               0\n",
       "ParentalControl             0\n",
       "SubtitlesEnabled            0\n",
       "CustomerID                  0\n",
       "Churn                       0\n",
       "dtype: int64"
      ]
     },
     "execution_count": 129,
     "metadata": {},
     "output_type": "execute_result"
    }
   ],
   "source": [
    "train_raw_df.isnull().sum()"
   ]
  },
  {
   "cell_type": "code",
   "execution_count": 130,
   "metadata": {},
   "outputs": [
    {
     "data": {
      "text/plain": [
       "AccountAge                  0\n",
       "MonthlyCharges              0\n",
       "TotalCharges                0\n",
       "SubscriptionType            0\n",
       "PaymentMethod               0\n",
       "PaperlessBilling            0\n",
       "ContentType                 0\n",
       "MultiDeviceAccess           0\n",
       "DeviceRegistered            0\n",
       "ViewingHoursPerWeek         0\n",
       "AverageViewingDuration      0\n",
       "ContentDownloadsPerMonth    0\n",
       "GenrePreference             0\n",
       "UserRating                  0\n",
       "SupportTicketsPerMonth      0\n",
       "Gender                      0\n",
       "WatchlistSize               0\n",
       "ParentalControl             0\n",
       "SubtitlesEnabled            0\n",
       "CustomerID                  0\n",
       "dtype: int64"
      ]
     },
     "execution_count": 130,
     "metadata": {},
     "output_type": "execute_result"
    }
   ],
   "source": [
    "test_raw_df.isnull().sum()"
   ]
  },
  {
   "cell_type": "markdown",
   "metadata": {},
   "source": [
    "> Look for duplicated data"
   ]
  },
  {
   "cell_type": "code",
   "execution_count": 131,
   "metadata": {},
   "outputs": [
    {
     "data": {
      "text/plain": [
       "0"
      ]
     },
     "execution_count": 131,
     "metadata": {},
     "output_type": "execute_result"
    }
   ],
   "source": [
    "train_raw_df.duplicated().sum()"
   ]
  },
  {
   "cell_type": "code",
   "execution_count": 132,
   "metadata": {},
   "outputs": [
    {
     "data": {
      "text/plain": [
       "0"
      ]
     },
     "execution_count": 132,
     "metadata": {},
     "output_type": "execute_result"
    }
   ],
   "source": [
    "test_raw_df.duplicated().sum()"
   ]
  },
  {
   "cell_type": "markdown",
   "metadata": {},
   "source": [
    "<a id='cleaning'></a>\n",
    "## Data Cleaning  \n",
    "\n",
    "In this section, the data will be cleaned and prepared for machine learning."
   ]
  },
  {
   "cell_type": "markdown",
   "metadata": {},
   "source": [
    "> From here on, ignoring the test data. It does not contain a value for churn and will get the test data from the training set, which contains 240k+ rows. Clearing out the dataframe to prevent accidentally using it later."
   ]
  },
  {
   "cell_type": "code",
   "execution_count": 133,
   "metadata": {},
   "outputs": [
    {
     "data": {
      "text/plain": [
       "(0, 0)"
      ]
     },
     "execution_count": 133,
     "metadata": {},
     "output_type": "execute_result"
    }
   ],
   "source": [
    "test_raw_df = pd.DataFrame()\n",
    "test_raw_df.shape"
   ]
  },
  {
   "cell_type": "code",
   "execution_count": 134,
   "metadata": {},
   "outputs": [],
   "source": [
    "df = train_raw_df"
   ]
  },
  {
   "cell_type": "markdown",
   "metadata": {},
   "source": [
    "> Dropping the `CustomerID` column to keep data anonymized and there is no reason to keep it. The AccountAge column tracks the age of the customer's account which is more appropriate."
   ]
  },
  {
   "cell_type": "code",
   "execution_count": 135,
   "metadata": {},
   "outputs": [],
   "source": [
    "df.drop(columns={'CustomerID'}, inplace=True)"
   ]
  },
  {
   "cell_type": "code",
   "execution_count": 136,
   "metadata": {},
   "outputs": [],
   "source": [
    "categorical_data_cols = []\n",
    "numerical_data_cols = []\n",
    "\n",
    "for column in df.columns:\n",
    "    if df[column].dtype == 'object':\n",
    "        categorical_data_cols.append(column)\n",
    "    else:\n",
    "        numerical_data_cols.append(column)"
   ]
  },
  {
   "cell_type": "code",
   "execution_count": 137,
   "metadata": {},
   "outputs": [
    {
     "data": {
      "text/plain": [
       "['SubscriptionType',\n",
       " 'PaymentMethod',\n",
       " 'PaperlessBilling',\n",
       " 'ContentType',\n",
       " 'MultiDeviceAccess',\n",
       " 'DeviceRegistered',\n",
       " 'GenrePreference',\n",
       " 'Gender',\n",
       " 'ParentalControl',\n",
       " 'SubtitlesEnabled']"
      ]
     },
     "execution_count": 137,
     "metadata": {},
     "output_type": "execute_result"
    }
   ],
   "source": [
    "categorical_data_cols"
   ]
  },
  {
   "cell_type": "code",
   "execution_count": 138,
   "metadata": {},
   "outputs": [
    {
     "data": {
      "text/plain": [
       "['AccountAge',\n",
       " 'MonthlyCharges',\n",
       " 'TotalCharges',\n",
       " 'ViewingHoursPerWeek',\n",
       " 'AverageViewingDuration',\n",
       " 'ContentDownloadsPerMonth',\n",
       " 'UserRating',\n",
       " 'SupportTicketsPerMonth',\n",
       " 'WatchlistSize',\n",
       " 'Churn']"
      ]
     },
     "execution_count": 138,
     "metadata": {},
     "output_type": "execute_result"
    }
   ],
   "source": [
    "numerical_data_cols"
   ]
  },
  {
   "cell_type": "markdown",
   "metadata": {},
   "source": [
    "### Categorical Data  \n",
    "Look at value counts for all categorical data"
   ]
  },
  {
   "cell_type": "code",
   "execution_count": 139,
   "metadata": {},
   "outputs": [
    {
     "data": {
      "text/plain": [
       "SubscriptionType\n",
       "Standard    81920\n",
       "Basic       81050\n",
       "Premium     80817\n",
       "Name: count, dtype: int64"
      ]
     },
     "execution_count": 139,
     "metadata": {},
     "output_type": "execute_result"
    }
   ],
   "source": [
    "df.SubscriptionType.value_counts()"
   ]
  },
  {
   "cell_type": "code",
   "execution_count": 140,
   "metadata": {},
   "outputs": [
    {
     "data": {
      "text/plain": [
       "PaymentMethod\n",
       "Electronic check    61313\n",
       "Credit card         60924\n",
       "Bank transfer       60797\n",
       "Mailed check        60753\n",
       "Name: count, dtype: int64"
      ]
     },
     "execution_count": 140,
     "metadata": {},
     "output_type": "execute_result"
    }
   ],
   "source": [
    "df.PaymentMethod.value_counts()"
   ]
  },
  {
   "cell_type": "code",
   "execution_count": 141,
   "metadata": {},
   "outputs": [
    {
     "data": {
      "text/plain": [
       "PaperlessBilling\n",
       "No     121980\n",
       "Yes    121807\n",
       "Name: count, dtype: int64"
      ]
     },
     "execution_count": 141,
     "metadata": {},
     "output_type": "execute_result"
    }
   ],
   "source": [
    "df.PaperlessBilling.value_counts()"
   ]
  },
  {
   "cell_type": "code",
   "execution_count": 142,
   "metadata": {},
   "outputs": [
    {
     "data": {
      "text/plain": [
       "ContentType\n",
       "Both        81737\n",
       "TV Shows    81145\n",
       "Movies      80905\n",
       "Name: count, dtype: int64"
      ]
     },
     "execution_count": 142,
     "metadata": {},
     "output_type": "execute_result"
    }
   ],
   "source": [
    "df.ContentType.value_counts()"
   ]
  },
  {
   "cell_type": "code",
   "execution_count": 143,
   "metadata": {},
   "outputs": [
    {
     "data": {
      "text/plain": [
       "MultiDeviceAccess\n",
       "No     122035\n",
       "Yes    121752\n",
       "Name: count, dtype: int64"
      ]
     },
     "execution_count": 143,
     "metadata": {},
     "output_type": "execute_result"
    }
   ],
   "source": [
    "df.MultiDeviceAccess.value_counts()"
   ]
  },
  {
   "cell_type": "code",
   "execution_count": 144,
   "metadata": {},
   "outputs": [
    {
     "data": {
      "text/plain": [
       "DeviceRegistered\n",
       "Computer    61147\n",
       "Tablet      61143\n",
       "Mobile      60914\n",
       "TV          60583\n",
       "Name: count, dtype: int64"
      ]
     },
     "execution_count": 144,
     "metadata": {},
     "output_type": "execute_result"
    }
   ],
   "source": [
    "df.DeviceRegistered.value_counts()"
   ]
  },
  {
   "cell_type": "code",
   "execution_count": 145,
   "metadata": {},
   "outputs": [
    {
     "data": {
      "text/plain": [
       "GenrePreference\n",
       "Comedy     49060\n",
       "Fantasy    48955\n",
       "Drama      48744\n",
       "Action     48690\n",
       "Sci-Fi     48338\n",
       "Name: count, dtype: int64"
      ]
     },
     "execution_count": 145,
     "metadata": {},
     "output_type": "execute_result"
    }
   ],
   "source": [
    "df.GenrePreference.value_counts()"
   ]
  },
  {
   "cell_type": "code",
   "execution_count": 146,
   "metadata": {},
   "outputs": [
    {
     "data": {
      "text/plain": [
       "Gender\n",
       "Female    121930\n",
       "Male      121857\n",
       "Name: count, dtype: int64"
      ]
     },
     "execution_count": 146,
     "metadata": {},
     "output_type": "execute_result"
    }
   ],
   "source": [
    "df.Gender.value_counts()"
   ]
  },
  {
   "cell_type": "code",
   "execution_count": 147,
   "metadata": {},
   "outputs": [
    {
     "data": {
      "text/plain": [
       "ParentalControl\n",
       "Yes    122085\n",
       "No     121702\n",
       "Name: count, dtype: int64"
      ]
     },
     "execution_count": 147,
     "metadata": {},
     "output_type": "execute_result"
    }
   ],
   "source": [
    "df.ParentalControl.value_counts()"
   ]
  },
  {
   "cell_type": "code",
   "execution_count": 148,
   "metadata": {},
   "outputs": [
    {
     "data": {
      "text/plain": [
       "SubtitlesEnabled\n",
       "Yes    122180\n",
       "No     121607\n",
       "Name: count, dtype: int64"
      ]
     },
     "execution_count": 148,
     "metadata": {},
     "output_type": "execute_result"
    }
   ],
   "source": [
    "df.SubtitlesEnabled.value_counts()"
   ]
  },
  {
   "cell_type": "markdown",
   "metadata": {},
   "source": [
    "> Noting the following columns could be converted to binary values:  \n",
    "`PaperlessBilling`  \n",
    "`MultiDeviceAccess`  \n",
    "`ParentalControl`  \n",
    "`SubtitlesEnabled`  "
   ]
  },
  {
   "cell_type": "markdown",
   "metadata": {},
   "source": [
    "### Binary Values\n",
    "> Using sklearn's LabelBinarizer to do the following conversions: \"No\":\"0\", \"Yes\":\"1\""
   ]
  },
  {
   "cell_type": "code",
   "execution_count": 149,
   "metadata": {},
   "outputs": [],
   "source": [
    "lb = LabelBinarizer()"
   ]
  },
  {
   "cell_type": "code",
   "execution_count": 150,
   "metadata": {},
   "outputs": [],
   "source": [
    "cleaned_pb_vcs = df.PaperlessBilling.value_counts()\n",
    "df.PaperlessBilling = lb.fit_transform(df.PaperlessBilling)\n",
    "binarized_pb_vcs = df.PaperlessBilling.value_counts()\n",
    "# Validate data changes\n",
    "assert(cleaned_pb_vcs.No == binarized_pb_vcs[0])\n",
    "assert(cleaned_pb_vcs.Yes == binarized_pb_vcs[1])"
   ]
  },
  {
   "cell_type": "code",
   "execution_count": 151,
   "metadata": {},
   "outputs": [],
   "source": [
    "cleaned_mda_vcs = df.MultiDeviceAccess.value_counts()\n",
    "df.MultiDeviceAccess = lb.fit_transform(df.MultiDeviceAccess)\n",
    "binarized_mda_vcs = df.MultiDeviceAccess.value_counts()\n",
    "# Validate data changes\n",
    "assert(cleaned_mda_vcs.No == binarized_mda_vcs[0])\n",
    "assert(cleaned_mda_vcs.Yes == binarized_mda_vcs[1])"
   ]
  },
  {
   "cell_type": "code",
   "execution_count": 152,
   "metadata": {},
   "outputs": [],
   "source": [
    "cleaned_pc_vcs = df.ParentalControl.value_counts()\n",
    "df.ParentalControl = lb.fit_transform(df.ParentalControl)\n",
    "binarized_pc_vcs = df.ParentalControl.value_counts()\n",
    "# Validate data changes\n",
    "assert(cleaned_pc_vcs.No == binarized_pc_vcs[0])\n",
    "assert(cleaned_pc_vcs.Yes == binarized_pc_vcs[1])"
   ]
  },
  {
   "cell_type": "code",
   "execution_count": 153,
   "metadata": {},
   "outputs": [],
   "source": [
    "cleaned_se_vcs = df.SubtitlesEnabled.value_counts()\n",
    "df.SubtitlesEnabled = lb.fit_transform(df.SubtitlesEnabled)\n",
    "binarized_se_vcs = df.SubtitlesEnabled.value_counts()\n",
    "# Validate data changes\n",
    "assert(cleaned_se_vcs.No == binarized_se_vcs[0])\n",
    "assert(cleaned_se_vcs.Yes == binarized_se_vcs[1])"
   ]
  },
  {
   "cell_type": "markdown",
   "metadata": {},
   "source": [
    "### Convert Categorical Data\n",
    "`SubscriptionType`  \n",
    "`PaymentMethod`  \n",
    "`ContentType`   \n",
    "`DeviceRegistered`  \n",
    "`GenrePreference`  \n",
    "`Gender`  "
   ]
  },
  {
   "cell_type": "code",
   "execution_count": 154,
   "metadata": {},
   "outputs": [],
   "source": [
    "le = LabelEncoder()"
   ]
  },
  {
   "cell_type": "code",
   "execution_count": 155,
   "metadata": {},
   "outputs": [],
   "source": [
    "cleaned_st_vcs = df.SubscriptionType.value_counts()\n",
    "df.SubscriptionType = le.fit_transform(df.SubscriptionType)\n",
    "binarized_st_vcs = df.SubscriptionType.value_counts()"
   ]
  },
  {
   "cell_type": "code",
   "execution_count": 156,
   "metadata": {},
   "outputs": [],
   "source": [
    "df.PaymentMethod = le.fit_transform(df.PaymentMethod)"
   ]
  },
  {
   "cell_type": "code",
   "execution_count": 157,
   "metadata": {},
   "outputs": [],
   "source": [
    "df.ContentType = le.fit_transform(df.ContentType)"
   ]
  },
  {
   "cell_type": "code",
   "execution_count": 158,
   "metadata": {},
   "outputs": [],
   "source": [
    "df.DeviceRegistered = le.fit_transform(df.DeviceRegistered)"
   ]
  },
  {
   "cell_type": "code",
   "execution_count": 159,
   "metadata": {},
   "outputs": [],
   "source": [
    "df.GenrePreference = le.fit_transform(df.GenrePreference)"
   ]
  },
  {
   "cell_type": "code",
   "execution_count": 160,
   "metadata": {},
   "outputs": [],
   "source": [
    "df.Gender = le.fit_transform(df.Gender)"
   ]
  },
  {
   "cell_type": "code",
   "execution_count": 161,
   "metadata": {},
   "outputs": [
    {
     "data": {
      "text/html": [
       "<div>\n",
       "<style scoped>\n",
       "    .dataframe tbody tr th:only-of-type {\n",
       "        vertical-align: middle;\n",
       "    }\n",
       "\n",
       "    .dataframe tbody tr th {\n",
       "        vertical-align: top;\n",
       "    }\n",
       "\n",
       "    .dataframe thead th {\n",
       "        text-align: right;\n",
       "    }\n",
       "</style>\n",
       "<table border=\"1\" class=\"dataframe\">\n",
       "  <thead>\n",
       "    <tr style=\"text-align: right;\">\n",
       "      <th></th>\n",
       "      <th>SubscriptionType</th>\n",
       "      <th>PaymentMethod</th>\n",
       "      <th>PaperlessBilling</th>\n",
       "      <th>ContentType</th>\n",
       "      <th>MultiDeviceAccess</th>\n",
       "      <th>DeviceRegistered</th>\n",
       "      <th>GenrePreference</th>\n",
       "      <th>Gender</th>\n",
       "      <th>ParentalControl</th>\n",
       "      <th>SubtitlesEnabled</th>\n",
       "    </tr>\n",
       "  </thead>\n",
       "  <tbody>\n",
       "    <tr>\n",
       "      <th>165493</th>\n",
       "      <td>0</td>\n",
       "      <td>2</td>\n",
       "      <td>0</td>\n",
       "      <td>2</td>\n",
       "      <td>1</td>\n",
       "      <td>2</td>\n",
       "      <td>4</td>\n",
       "      <td>1</td>\n",
       "      <td>1</td>\n",
       "      <td>0</td>\n",
       "    </tr>\n",
       "    <tr>\n",
       "      <th>108420</th>\n",
       "      <td>1</td>\n",
       "      <td>0</td>\n",
       "      <td>0</td>\n",
       "      <td>2</td>\n",
       "      <td>0</td>\n",
       "      <td>2</td>\n",
       "      <td>3</td>\n",
       "      <td>1</td>\n",
       "      <td>0</td>\n",
       "      <td>1</td>\n",
       "    </tr>\n",
       "    <tr>\n",
       "      <th>239286</th>\n",
       "      <td>2</td>\n",
       "      <td>0</td>\n",
       "      <td>0</td>\n",
       "      <td>0</td>\n",
       "      <td>0</td>\n",
       "      <td>3</td>\n",
       "      <td>0</td>\n",
       "      <td>0</td>\n",
       "      <td>1</td>\n",
       "      <td>1</td>\n",
       "    </tr>\n",
       "    <tr>\n",
       "      <th>178995</th>\n",
       "      <td>2</td>\n",
       "      <td>3</td>\n",
       "      <td>0</td>\n",
       "      <td>1</td>\n",
       "      <td>1</td>\n",
       "      <td>1</td>\n",
       "      <td>1</td>\n",
       "      <td>0</td>\n",
       "      <td>1</td>\n",
       "      <td>1</td>\n",
       "    </tr>\n",
       "    <tr>\n",
       "      <th>74116</th>\n",
       "      <td>0</td>\n",
       "      <td>1</td>\n",
       "      <td>1</td>\n",
       "      <td>1</td>\n",
       "      <td>0</td>\n",
       "      <td>2</td>\n",
       "      <td>4</td>\n",
       "      <td>0</td>\n",
       "      <td>1</td>\n",
       "      <td>1</td>\n",
       "    </tr>\n",
       "  </tbody>\n",
       "</table>\n",
       "</div>"
      ],
      "text/plain": [
       "        SubscriptionType  PaymentMethod  PaperlessBilling  ContentType  \\\n",
       "165493                 0              2                 0            2   \n",
       "108420                 1              0                 0            2   \n",
       "239286                 2              0                 0            0   \n",
       "178995                 2              3                 0            1   \n",
       "74116                  0              1                 1            1   \n",
       "\n",
       "        MultiDeviceAccess  DeviceRegistered  GenrePreference  Gender  \\\n",
       "165493                  1                 2                4       1   \n",
       "108420                  0                 2                3       1   \n",
       "239286                  0                 3                0       0   \n",
       "178995                  1                 1                1       0   \n",
       "74116                   0                 2                4       0   \n",
       "\n",
       "        ParentalControl  SubtitlesEnabled  \n",
       "165493                1                 0  \n",
       "108420                0                 1  \n",
       "239286                1                 1  \n",
       "178995                1                 1  \n",
       "74116                 1                 1  "
      ]
     },
     "execution_count": 161,
     "metadata": {},
     "output_type": "execute_result"
    }
   ],
   "source": [
    "df[categorical_data_cols].sample(5)"
   ]
  },
  {
   "cell_type": "markdown",
   "metadata": {},
   "source": [
    "### Quantitative Data"
   ]
  },
  {
   "cell_type": "markdown",
   "metadata": {},
   "source": [
    "> Rounding the quantitative to two decimal places"
   ]
  },
  {
   "cell_type": "code",
   "execution_count": 162,
   "metadata": {},
   "outputs": [
    {
     "data": {
      "text/html": [
       "<div>\n",
       "<style scoped>\n",
       "    .dataframe tbody tr th:only-of-type {\n",
       "        vertical-align: middle;\n",
       "    }\n",
       "\n",
       "    .dataframe tbody tr th {\n",
       "        vertical-align: top;\n",
       "    }\n",
       "\n",
       "    .dataframe thead th {\n",
       "        text-align: right;\n",
       "    }\n",
       "</style>\n",
       "<table border=\"1\" class=\"dataframe\">\n",
       "  <thead>\n",
       "    <tr style=\"text-align: right;\">\n",
       "      <th></th>\n",
       "      <th>AccountAge</th>\n",
       "      <th>MonthlyCharges</th>\n",
       "      <th>TotalCharges</th>\n",
       "      <th>ViewingHoursPerWeek</th>\n",
       "      <th>AverageViewingDuration</th>\n",
       "      <th>ContentDownloadsPerMonth</th>\n",
       "      <th>UserRating</th>\n",
       "      <th>SupportTicketsPerMonth</th>\n",
       "      <th>WatchlistSize</th>\n",
       "      <th>Churn</th>\n",
       "    </tr>\n",
       "  </thead>\n",
       "  <tbody>\n",
       "    <tr>\n",
       "      <th>183958</th>\n",
       "      <td>36</td>\n",
       "      <td>18.395221</td>\n",
       "      <td>662.227947</td>\n",
       "      <td>27.845914</td>\n",
       "      <td>78.542125</td>\n",
       "      <td>34</td>\n",
       "      <td>1.141833</td>\n",
       "      <td>7</td>\n",
       "      <td>12</td>\n",
       "      <td>0</td>\n",
       "    </tr>\n",
       "    <tr>\n",
       "      <th>83422</th>\n",
       "      <td>115</td>\n",
       "      <td>7.527436</td>\n",
       "      <td>865.655090</td>\n",
       "      <td>4.772418</td>\n",
       "      <td>144.680869</td>\n",
       "      <td>5</td>\n",
       "      <td>2.404584</td>\n",
       "      <td>4</td>\n",
       "      <td>6</td>\n",
       "      <td>0</td>\n",
       "    </tr>\n",
       "    <tr>\n",
       "      <th>123451</th>\n",
       "      <td>114</td>\n",
       "      <td>8.630043</td>\n",
       "      <td>983.824920</td>\n",
       "      <td>37.910304</td>\n",
       "      <td>67.330269</td>\n",
       "      <td>32</td>\n",
       "      <td>3.590707</td>\n",
       "      <td>4</td>\n",
       "      <td>22</td>\n",
       "      <td>0</td>\n",
       "    </tr>\n",
       "    <tr>\n",
       "      <th>106863</th>\n",
       "      <td>40</td>\n",
       "      <td>8.944570</td>\n",
       "      <td>357.782789</td>\n",
       "      <td>6.870905</td>\n",
       "      <td>138.503040</td>\n",
       "      <td>48</td>\n",
       "      <td>2.453349</td>\n",
       "      <td>2</td>\n",
       "      <td>24</td>\n",
       "      <td>0</td>\n",
       "    </tr>\n",
       "    <tr>\n",
       "      <th>224956</th>\n",
       "      <td>2</td>\n",
       "      <td>13.726103</td>\n",
       "      <td>27.452206</td>\n",
       "      <td>3.444698</td>\n",
       "      <td>83.057255</td>\n",
       "      <td>21</td>\n",
       "      <td>1.779996</td>\n",
       "      <td>0</td>\n",
       "      <td>8</td>\n",
       "      <td>1</td>\n",
       "    </tr>\n",
       "  </tbody>\n",
       "</table>\n",
       "</div>"
      ],
      "text/plain": [
       "        AccountAge  MonthlyCharges  TotalCharges  ViewingHoursPerWeek  \\\n",
       "183958          36       18.395221    662.227947            27.845914   \n",
       "83422          115        7.527436    865.655090             4.772418   \n",
       "123451         114        8.630043    983.824920            37.910304   \n",
       "106863          40        8.944570    357.782789             6.870905   \n",
       "224956           2       13.726103     27.452206             3.444698   \n",
       "\n",
       "        AverageViewingDuration  ContentDownloadsPerMonth  UserRating  \\\n",
       "183958               78.542125                        34    1.141833   \n",
       "83422               144.680869                         5    2.404584   \n",
       "123451               67.330269                        32    3.590707   \n",
       "106863              138.503040                        48    2.453349   \n",
       "224956               83.057255                        21    1.779996   \n",
       "\n",
       "        SupportTicketsPerMonth  WatchlistSize  Churn  \n",
       "183958                       7             12      0  \n",
       "83422                        4              6      0  \n",
       "123451                       4             22      0  \n",
       "106863                       2             24      0  \n",
       "224956                       0              8      1  "
      ]
     },
     "execution_count": 162,
     "metadata": {},
     "output_type": "execute_result"
    }
   ],
   "source": [
    "df[numerical_data_cols].sample(5)"
   ]
  },
  {
   "cell_type": "code",
   "execution_count": 163,
   "metadata": {},
   "outputs": [],
   "source": [
    "for col in numerical_data_cols:\n",
    "    if np.dtype(df[col]) == float:\n",
    "        df[col] = df[col].round(2)"
   ]
  },
  {
   "cell_type": "code",
   "execution_count": 164,
   "metadata": {},
   "outputs": [
    {
     "data": {
      "text/html": [
       "<div>\n",
       "<style scoped>\n",
       "    .dataframe tbody tr th:only-of-type {\n",
       "        vertical-align: middle;\n",
       "    }\n",
       "\n",
       "    .dataframe tbody tr th {\n",
       "        vertical-align: top;\n",
       "    }\n",
       "\n",
       "    .dataframe thead th {\n",
       "        text-align: right;\n",
       "    }\n",
       "</style>\n",
       "<table border=\"1\" class=\"dataframe\">\n",
       "  <thead>\n",
       "    <tr style=\"text-align: right;\">\n",
       "      <th></th>\n",
       "      <th>AccountAge</th>\n",
       "      <th>MonthlyCharges</th>\n",
       "      <th>TotalCharges</th>\n",
       "      <th>SubscriptionType</th>\n",
       "      <th>PaymentMethod</th>\n",
       "      <th>PaperlessBilling</th>\n",
       "      <th>ContentType</th>\n",
       "      <th>MultiDeviceAccess</th>\n",
       "      <th>DeviceRegistered</th>\n",
       "      <th>ViewingHoursPerWeek</th>\n",
       "      <th>AverageViewingDuration</th>\n",
       "      <th>ContentDownloadsPerMonth</th>\n",
       "      <th>GenrePreference</th>\n",
       "      <th>UserRating</th>\n",
       "      <th>SupportTicketsPerMonth</th>\n",
       "      <th>Gender</th>\n",
       "      <th>WatchlistSize</th>\n",
       "      <th>ParentalControl</th>\n",
       "      <th>SubtitlesEnabled</th>\n",
       "      <th>Churn</th>\n",
       "    </tr>\n",
       "  </thead>\n",
       "  <tbody>\n",
       "    <tr>\n",
       "      <th>122217</th>\n",
       "      <td>66</td>\n",
       "      <td>5.52</td>\n",
       "      <td>364.58</td>\n",
       "      <td>0</td>\n",
       "      <td>2</td>\n",
       "      <td>0</td>\n",
       "      <td>2</td>\n",
       "      <td>0</td>\n",
       "      <td>2</td>\n",
       "      <td>7.39</td>\n",
       "      <td>110.00</td>\n",
       "      <td>0</td>\n",
       "      <td>2</td>\n",
       "      <td>1.62</td>\n",
       "      <td>7</td>\n",
       "      <td>0</td>\n",
       "      <td>12</td>\n",
       "      <td>0</td>\n",
       "      <td>1</td>\n",
       "      <td>0</td>\n",
       "    </tr>\n",
       "    <tr>\n",
       "      <th>52809</th>\n",
       "      <td>95</td>\n",
       "      <td>14.88</td>\n",
       "      <td>1413.66</td>\n",
       "      <td>0</td>\n",
       "      <td>0</td>\n",
       "      <td>0</td>\n",
       "      <td>1</td>\n",
       "      <td>0</td>\n",
       "      <td>0</td>\n",
       "      <td>28.30</td>\n",
       "      <td>38.39</td>\n",
       "      <td>33</td>\n",
       "      <td>1</td>\n",
       "      <td>3.69</td>\n",
       "      <td>5</td>\n",
       "      <td>0</td>\n",
       "      <td>14</td>\n",
       "      <td>1</td>\n",
       "      <td>1</td>\n",
       "      <td>0</td>\n",
       "    </tr>\n",
       "    <tr>\n",
       "      <th>184046</th>\n",
       "      <td>95</td>\n",
       "      <td>12.78</td>\n",
       "      <td>1214.01</td>\n",
       "      <td>1</td>\n",
       "      <td>3</td>\n",
       "      <td>0</td>\n",
       "      <td>1</td>\n",
       "      <td>1</td>\n",
       "      <td>1</td>\n",
       "      <td>34.52</td>\n",
       "      <td>53.75</td>\n",
       "      <td>3</td>\n",
       "      <td>4</td>\n",
       "      <td>3.40</td>\n",
       "      <td>5</td>\n",
       "      <td>0</td>\n",
       "      <td>24</td>\n",
       "      <td>0</td>\n",
       "      <td>0</td>\n",
       "      <td>0</td>\n",
       "    </tr>\n",
       "    <tr>\n",
       "      <th>188285</th>\n",
       "      <td>101</td>\n",
       "      <td>8.43</td>\n",
       "      <td>851.23</td>\n",
       "      <td>0</td>\n",
       "      <td>1</td>\n",
       "      <td>1</td>\n",
       "      <td>1</td>\n",
       "      <td>0</td>\n",
       "      <td>0</td>\n",
       "      <td>19.88</td>\n",
       "      <td>75.28</td>\n",
       "      <td>43</td>\n",
       "      <td>2</td>\n",
       "      <td>2.51</td>\n",
       "      <td>1</td>\n",
       "      <td>0</td>\n",
       "      <td>6</td>\n",
       "      <td>1</td>\n",
       "      <td>0</td>\n",
       "      <td>0</td>\n",
       "    </tr>\n",
       "    <tr>\n",
       "      <th>82430</th>\n",
       "      <td>102</td>\n",
       "      <td>15.98</td>\n",
       "      <td>1629.84</td>\n",
       "      <td>1</td>\n",
       "      <td>2</td>\n",
       "      <td>1</td>\n",
       "      <td>2</td>\n",
       "      <td>0</td>\n",
       "      <td>1</td>\n",
       "      <td>22.36</td>\n",
       "      <td>54.44</td>\n",
       "      <td>16</td>\n",
       "      <td>2</td>\n",
       "      <td>3.05</td>\n",
       "      <td>0</td>\n",
       "      <td>0</td>\n",
       "      <td>17</td>\n",
       "      <td>0</td>\n",
       "      <td>1</td>\n",
       "      <td>0</td>\n",
       "    </tr>\n",
       "  </tbody>\n",
       "</table>\n",
       "</div>"
      ],
      "text/plain": [
       "        AccountAge  MonthlyCharges  TotalCharges  SubscriptionType  \\\n",
       "122217          66            5.52        364.58                 0   \n",
       "52809           95           14.88       1413.66                 0   \n",
       "184046          95           12.78       1214.01                 1   \n",
       "188285         101            8.43        851.23                 0   \n",
       "82430          102           15.98       1629.84                 1   \n",
       "\n",
       "        PaymentMethod  PaperlessBilling  ContentType  MultiDeviceAccess  \\\n",
       "122217              2                 0            2                  0   \n",
       "52809               0                 0            1                  0   \n",
       "184046              3                 0            1                  1   \n",
       "188285              1                 1            1                  0   \n",
       "82430               2                 1            2                  0   \n",
       "\n",
       "        DeviceRegistered  ViewingHoursPerWeek  AverageViewingDuration  \\\n",
       "122217                 2                 7.39                  110.00   \n",
       "52809                  0                28.30                   38.39   \n",
       "184046                 1                34.52                   53.75   \n",
       "188285                 0                19.88                   75.28   \n",
       "82430                  1                22.36                   54.44   \n",
       "\n",
       "        ContentDownloadsPerMonth  GenrePreference  UserRating  \\\n",
       "122217                         0                2        1.62   \n",
       "52809                         33                1        3.69   \n",
       "184046                         3                4        3.40   \n",
       "188285                        43                2        2.51   \n",
       "82430                         16                2        3.05   \n",
       "\n",
       "        SupportTicketsPerMonth  Gender  WatchlistSize  ParentalControl  \\\n",
       "122217                       7       0             12                0   \n",
       "52809                        5       0             14                1   \n",
       "184046                       5       0             24                0   \n",
       "188285                       1       0              6                1   \n",
       "82430                        0       0             17                0   \n",
       "\n",
       "        SubtitlesEnabled  Churn  \n",
       "122217                 1      0  \n",
       "52809                  1      0  \n",
       "184046                 0      0  \n",
       "188285                 0      0  \n",
       "82430                  1      0  "
      ]
     },
     "execution_count": 164,
     "metadata": {},
     "output_type": "execute_result"
    }
   ],
   "source": [
    "df.sample(5)"
   ]
  },
  {
   "cell_type": "markdown",
   "metadata": {},
   "source": [
    "### Look for outliers"
   ]
  },
  {
   "cell_type": "code",
   "execution_count": 165,
   "metadata": {},
   "outputs": [
    {
     "data": {
      "text/plain": [
       "count    243787.000000\n",
       "mean         60.083758\n",
       "std          34.285143\n",
       "min           1.000000\n",
       "25%          30.000000\n",
       "50%          60.000000\n",
       "75%          90.000000\n",
       "max         119.000000\n",
       "Name: AccountAge, dtype: float64"
      ]
     },
     "execution_count": 165,
     "metadata": {},
     "output_type": "execute_result"
    }
   ],
   "source": [
    "df.AccountAge.describe()"
   ]
  },
  {
   "cell_type": "markdown",
   "metadata": {},
   "source": [
    "> Even though the `AccountAge` column has outliers, it would make sense this would occur naturally. "
   ]
  },
  {
   "cell_type": "code",
   "execution_count": 166,
   "metadata": {},
   "outputs": [
    {
     "data": {
      "text/plain": [
       "count    243787.000000\n",
       "mean        750.741017\n",
       "std         523.073274\n",
       "min           4.990000\n",
       "25%         329.150000\n",
       "50%         649.880000\n",
       "75%        1089.320000\n",
       "max        2378.720000\n",
       "Name: TotalCharges, dtype: float64"
      ]
     },
     "execution_count": 166,
     "metadata": {},
     "output_type": "execute_result"
    }
   ],
   "source": [
    "df.TotalCharges.describe()"
   ]
  },
  {
   "cell_type": "markdown",
   "metadata": {},
   "source": [
    "> As with `AccountAge`, `Total Charges` would have the same situation with outliers occurring naturally."
   ]
  },
  {
   "cell_type": "code",
   "execution_count": 167,
   "metadata": {},
   "outputs": [
    {
     "data": {
      "text/plain": [
       "count    243787.000000\n",
       "mean         20.502183\n",
       "std          11.243755\n",
       "min           1.000000\n",
       "25%          10.760000\n",
       "50%          20.520000\n",
       "75%          30.220000\n",
       "max          40.000000\n",
       "Name: ViewingHoursPerWeek, dtype: float64"
      ]
     },
     "execution_count": 167,
     "metadata": {},
     "output_type": "execute_result"
    }
   ],
   "source": [
    "df.ViewingHoursPerWeek.describe()"
   ]
  },
  {
   "cell_type": "code",
   "execution_count": 168,
   "metadata": {},
   "outputs": [
    {
     "name": "stdout",
     "output_type": "stream",
     "text": [
      "Count greater than 1.5 stddev away from the mean (20.5): 0\n"
     ]
    }
   ],
   "source": [
    "vhpw_stddev = 20.502183\n",
    "mean = df.ViewingHoursPerWeek.mean()\n",
    "\n",
    "vhpw_gt_2_stdev = df[(df['ViewingHoursPerWeek'] > mean + 1.5 * vhpw_stddev) | (df['ViewingHoursPerWeek'] < mean - 1.5 * vhpw_stddev)]['ViewingHoursPerWeek'].count()\n",
    "print(f'Count greater than 1.5 stddev away from the mean ({round(mean, 1)}): {vhpw_gt_2_stdev}')"
   ]
  },
  {
   "cell_type": "markdown",
   "metadata": {},
   "source": [
    "> No outliers found for `ViewingHoursPerWeek`"
   ]
  },
  {
   "cell_type": "code",
   "execution_count": 169,
   "metadata": {},
   "outputs": [
    {
     "data": {
      "text/plain": [
       "count    243787.000000\n",
       "mean         92.264052\n",
       "std          50.505245\n",
       "min           5.000000\n",
       "25%          48.380000\n",
       "50%          92.250000\n",
       "75%         135.910000\n",
       "max         180.000000\n",
       "Name: AverageViewingDuration, dtype: float64"
      ]
     },
     "execution_count": 169,
     "metadata": {},
     "output_type": "execute_result"
    }
   ],
   "source": [
    "mean = df['AverageViewingDuration'].mean()\n",
    "avd_stddev = df['AverageViewingDuration'].describe()['std']\n",
    "df['AverageViewingDuration'].describe()"
   ]
  },
  {
   "cell_type": "code",
   "execution_count": 170,
   "metadata": {},
   "outputs": [
    {
     "name": "stdout",
     "output_type": "stream",
     "text": [
      "Count greater than 1.5 stddev away from the mean (92.3): 32657\n"
     ]
    }
   ],
   "source": [
    "avd_outliers = df[(df['AverageViewingDuration'] > mean + 1.5 * avd_stddev) | (df['AverageViewingDuration'] < mean - 1.5 * avd_stddev)]['AverageViewingDuration']\n",
    "print(f'Count greater than 1.5 stddev away from the mean ({round(mean, 1)}): {avd_outliers.count()}')"
   ]
  },
  {
   "cell_type": "markdown",
   "metadata": {},
   "source": [
    "> There are 32,657 rows of data with `AverageViewingDuration` > the mean (92.3). However, this seems that it would occur naturally since most movies are around 1.5 hours long and movies do exist that are 3 hours long. Also, it is acceptable that a user would start a show just to stop a few minutes into the movie.\n",
    "\n",
    "> Just to double check, checking to see if any data is > 2 stddev away"
   ]
  },
  {
   "cell_type": "code",
   "execution_count": 171,
   "metadata": {},
   "outputs": [
    {
     "name": "stdout",
     "output_type": "stream",
     "text": [
      "Count greater than 2 stddev away from the mean (92.3): 0\n"
     ]
    }
   ],
   "source": [
    "avd_outliers = df[(df['AverageViewingDuration'] > mean + 2 * avd_stddev) | (df['AverageViewingDuration'] < mean - 2 * avd_stddev)]['AverageViewingDuration']\n",
    "print(f'Count greater than 2 stddev away from the mean ({round(mean, 1)}): {avd_outliers.count()}')"
   ]
  },
  {
   "cell_type": "markdown",
   "metadata": {},
   "source": [
    "> Will not exclude any data because the values seem acceptable. If there had been data > 2 stddev away (192+ minutes), it would have been excluded."
   ]
  },
  {
   "cell_type": "code",
   "execution_count": 172,
   "metadata": {},
   "outputs": [
    {
     "data": {
      "text/plain": [
       "count    243787.000000\n",
       "mean         24.503513\n",
       "std          14.421174\n",
       "min           0.000000\n",
       "25%          12.000000\n",
       "50%          24.000000\n",
       "75%          37.000000\n",
       "max          49.000000\n",
       "Name: ContentDownloadsPerMonth, dtype: float64"
      ]
     },
     "execution_count": 172,
     "metadata": {},
     "output_type": "execute_result"
    }
   ],
   "source": [
    "mean = df['ContentDownloadsPerMonth'].mean()\n",
    "avd_stddev = df['ContentDownloadsPerMonth'].describe()['std']\n",
    "df['ContentDownloadsPerMonth'].describe()"
   ]
  },
  {
   "cell_type": "code",
   "execution_count": 173,
   "metadata": {},
   "outputs": [
    {
     "name": "stdout",
     "output_type": "stream",
     "text": [
      "Count greater than 2 stddev away from the mean (24.5): 0\n"
     ]
    }
   ],
   "source": [
    "cdpm_outliers = df[(df['ContentDownloadsPerMonth'] > mean + 2 * avd_stddev) | (df['ContentDownloadsPerMonth'] < mean - 2 * avd_stddev)]['ContentDownloadsPerMonth']\n",
    "print(f'Count greater than 2 stddev away from the mean ({round(mean, 1)}): {cdpm_outliers.count()}')"
   ]
  },
  {
   "cell_type": "markdown",
   "metadata": {},
   "source": [
    "> Chose to go 2 stddev away since it seems likely some users would make a lot more use of the service than others."
   ]
  },
  {
   "cell_type": "markdown",
   "metadata": {},
   "source": [
    "> Data is fully cleaned"
   ]
  },
  {
   "cell_type": "markdown",
   "metadata": {},
   "source": [
    "<a id=\"#training\"></a>\n",
    "### Train Data\n",
    "\n",
    "> Split the data into train, test, and validation data"
   ]
  },
  {
   "cell_type": "code",
   "execution_count": 201,
   "metadata": {},
   "outputs": [],
   "source": [
    "# Split the data into training and testing sets\n",
    "X_train, X_test, y_train, y_test = train_test_split(X, y, test_size=0.25, random_state=42)\n",
    "\n",
    "# Split the training data into training and validation sets\n",
    "X_train, X_val, y_train, y_val = train_test_split(X_train, y_train, test_size=0.25, random_state=42)"
   ]
  },
  {
   "cell_type": "markdown",
   "metadata": {},
   "source": [
    "> Train, test, and validation data are set"
   ]
  },
  {
   "cell_type": "markdown",
   "metadata": {},
   "source": [
    "### Logistic Regression"
   ]
  },
  {
   "cell_type": "code",
   "execution_count": 199,
   "metadata": {},
   "outputs": [],
   "source": [
    "log_reg_model = LogisticRegression(max_iter=150_000)"
   ]
  },
  {
   "cell_type": "code",
   "execution_count": 200,
   "metadata": {},
   "outputs": [
    {
     "data": {
      "text/plain": [
       "82.28624870789373"
      ]
     },
     "execution_count": 200,
     "metadata": {},
     "output_type": "execute_result"
    }
   ],
   "source": [
    "X_train, X_test, y_train, y_test = train_test_split(df.drop('Churn', axis=1), df['Churn'], test_size=0.25)\n",
    "log_reg_model.fit(X_train, y_train)\n",
    "\n",
    "y_pred = log_reg_model.predict(X_test)\n",
    "accuracy = log_reg_model.score(X_test, y_test)\n",
    "\n",
    "accuracy * 100"
   ]
  },
  {
   "cell_type": "code",
   "execution_count": 203,
   "metadata": {},
   "outputs": [
    {
     "data": {
      "text/plain": [
       "82.53336250273463"
      ]
     },
     "execution_count": 203,
     "metadata": {},
     "output_type": "execute_result"
    }
   ],
   "source": [
    "y_val_pred = log_reg_model.predict(X_val)\n",
    "accuracy = log_reg_model.score(X_val, y_val)\n",
    "accuracy * 100"
   ]
  },
  {
   "cell_type": "code",
   "execution_count": null,
   "metadata": {},
   "outputs": [],
   "source": []
  }
 ],
 "metadata": {
  "kernelspec": {
   "display_name": "Python 3",
   "language": "python",
   "name": "python3"
  },
  "language_info": {
   "codemirror_mode": {
    "name": "ipython",
    "version": 3
   },
   "file_extension": ".py",
   "mimetype": "text/x-python",
   "name": "python",
   "nbconvert_exporter": "python",
   "pygments_lexer": "ipython3",
   "version": "3.10.4"
  }
 },
 "nbformat": 4,
 "nbformat_minor": 2
}
